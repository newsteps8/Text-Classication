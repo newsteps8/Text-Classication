{
  "nbformat": 4,
  "nbformat_minor": 0,
  "metadata": {
    "kernelspec": {
      "name": "python3",
      "display_name": "Python 3"
    },
    "language_info": {
      "codemirror_mode": {
        "name": "ipython",
        "version": 3
      },
      "file_extension": ".py",
      "mimetype": "text/x-python",
      "name": "python",
      "nbconvert_exporter": "python",
      "pygments_lexer": "ipython3",
      "version": "3.6.8"
    },
    "colab": {
      "name": "DocumentClassifier_KMeans.ipynb",
      "provenance": [],
      "collapsed_sections": []
    },
    "accelerator": "GPU"
  },
  "cells": [
    {
      "cell_type": "code",
      "metadata": {
        "id": "PxPVNXk2aWs8",
        "colab_type": "code",
        "outputId": "ccf3dea4-b712-4a25-d93b-255455edbcd1",
        "colab": {
          "base_uri": "https://localhost:8080/",
          "height": 34
        }
      },
      "source": [
        "from google.colab import drive\n",
        "drive.mount('/content/drive')"
      ],
      "execution_count": 0,
      "outputs": [
        {
          "output_type": "stream",
          "text": [
            "Drive already mounted at /content/drive; to attempt to forcibly remount, call drive.mount(\"/content/drive\", force_remount=True).\n"
          ],
          "name": "stdout"
        }
      ]
    },
    {
      "cell_type": "code",
      "metadata": {
        "id": "sfaf5yaQaW_X",
        "colab_type": "code",
        "colab": {}
      },
      "source": [
        "import os\n",
        "os.chdir('./drive/My Drive/')"
      ],
      "execution_count": 0,
      "outputs": []
    },
    {
      "cell_type": "code",
      "metadata": {
        "id": "aQYBd-j2Zl9X",
        "colab_type": "code",
        "colab": {}
      },
      "source": [
        "from sklearn.feature_extraction.text import TfidfVectorizer\n",
        "from sklearn.cluster import KMeans\n",
        "from sklearn.metrics import adjusted_rand_score\n",
        "import re\n",
        "import glob\n",
        "from string import punctuation\n",
        "#import textract\n",
        "import numpy as np\n",
        "import pandas as pd"
      ],
      "execution_count": 0,
      "outputs": []
    },
    {
      "cell_type": "code",
      "metadata": {
        "id": "1u-4DnCxa4QL",
        "colab_type": "code",
        "outputId": "21db85bd-14cb-475c-8258-37b2161be395",
        "colab": {
          "base_uri": "https://localhost:8080/",
          "height": 204
        }
      },
      "source": [
        "#CSV Okuma\n",
        "df = pd.read_csv('7all.csv', encoding='utf-8', header=None, names=['cat', 'text'])\n",
        "df=df.drop([\"cat\"], axis=1)\n",
        "df.tail()"
      ],
      "execution_count": 0,
      "outputs": [
        {
          "output_type": "execute_result",
          "data": {
            "text/html": [
              "<div>\n",
              "<style scoped>\n",
              "    .dataframe tbody tr th:only-of-type {\n",
              "        vertical-align: middle;\n",
              "    }\n",
              "\n",
              "    .dataframe tbody tr th {\n",
              "        vertical-align: top;\n",
              "    }\n",
              "\n",
              "    .dataframe thead th {\n",
              "        text-align: right;\n",
              "    }\n",
              "</style>\n",
              "<table border=\"1\" class=\"dataframe\">\n",
              "  <thead>\n",
              "    <tr style=\"text-align: right;\">\n",
              "      <th></th>\n",
              "      <th>text</th>\n",
              "    </tr>\n",
              "  </thead>\n",
              "  <tbody>\n",
              "    <tr>\n",
              "      <th>4895</th>\n",
              "      <td>iphone lara geri dönüyor ios 6 sürümüyle tele...</td>\n",
              "    </tr>\n",
              "    <tr>\n",
              "      <th>4896</th>\n",
              "      <td>muslukta devrim sadece elimizi yıkadığımız mu...</td>\n",
              "    </tr>\n",
              "    <tr>\n",
              "      <th>4897</th>\n",
              "      <td>halka iyi anlatılmalı bilgi_teknolojileri ile...</td>\n",
              "    </tr>\n",
              "    <tr>\n",
              "      <th>4898</th>\n",
              "      <td>çöpe gidiyorlar apple 775 bin uygulamayla app...</td>\n",
              "    </tr>\n",
              "    <tr>\n",
              "      <th>4899</th>\n",
              "      <td>google bu kez edward_gorey dedi ! google bu k...</td>\n",
              "    </tr>\n",
              "  </tbody>\n",
              "</table>\n",
              "</div>"
            ],
            "text/plain": [
              "                                                   text\n",
              "4895   iphone lara geri dönüyor ios 6 sürümüyle tele...\n",
              "4896   muslukta devrim sadece elimizi yıkadığımız mu...\n",
              "4897   halka iyi anlatılmalı bilgi_teknolojileri ile...\n",
              "4898   çöpe gidiyorlar apple 775 bin uygulamayla app...\n",
              "4899   google bu kez edward_gorey dedi ! google bu k..."
            ]
          },
          "metadata": {
            "tags": []
          },
          "execution_count": 52
        }
      ]
    },
    {
      "cell_type": "code",
      "metadata": {
        "id": "HgTqiTXJnAze",
        "colab_type": "code",
        "colab": {}
      },
      "source": [
        "df['text']\n",
        "doc_list=df['text'].tolist()"
      ],
      "execution_count": 0,
      "outputs": []
    },
    {
      "cell_type": "code",
      "metadata": {
        "id": "SQ0mKsUzfm8X",
        "colab_type": "code",
        "colab": {}
      },
      "source": [
        "\n",
        "# PDF OKUMA\n",
        "    documents = []\n",
        "\n",
        "    for x in doc_list:\n",
        "        #print(text)\n",
        "\n",
        "\n",
        "        #PREPROCESS OF TEXT\n",
        "        x = re.sub(r\"İ\", \"i\", x)\n",
        "        x = re.sub(r\"/\", \"\",  x)\n",
        "        x = re.sub(r\"  \", \" \", x)\n",
        "        x = re.sub(r\"\\n\", \"\", x)\n",
        "        x = re.sub(\"^\\d+\\s|\\s\\d+\\s|\\s\\d+$\", \" \", x)\n",
        "        #x = ''.join([c for c in text if c not in punctuation])\n",
        "        documents.append(x)       "
      ],
      "execution_count": 0,
      "outputs": []
    },
    {
      "cell_type": "code",
      "metadata": {
        "id": "Jf85mXZPZl9s",
        "colab_type": "code",
        "colab": {}
      },
      "source": [
        "#stopwords ve vektorize\n",
        "with open('stopwords-tr.txt', 'r') as f:\n",
        "    myLists = [line.strip() for line in f]\n",
        "\n",
        "vectorizer = TfidfVectorizer(stop_words=myLists)\n",
        "X = vectorizer.fit_transform(documents)\n",
        "\n"
      ],
      "execution_count": 0,
      "outputs": []
    },
    {
      "cell_type": "code",
      "metadata": {
        "id": "QgQLXF2IZl90",
        "colab_type": "code",
        "outputId": "92bb154a-ee8c-4460-e758-4bd308c5d895",
        "colab": {
          "base_uri": "https://localhost:8080/",
          "height": 68
        }
      },
      "source": [
        "#KMEANS model\n",
        "true_k = 7 #cluster sayısı\n",
        "model = KMeans(n_clusters=true_k, init='k-means++', max_iter=100, n_init=1)\n",
        "model.fit(X)"
      ],
      "execution_count": 0,
      "outputs": [
        {
          "output_type": "execute_result",
          "data": {
            "text/plain": [
              "KMeans(algorithm='auto', copy_x=True, init='k-means++', max_iter=100,\n",
              "       n_clusters=7, n_init=1, n_jobs=None, precompute_distances='auto',\n",
              "       random_state=None, tol=0.0001, verbose=0)"
            ]
          },
          "metadata": {
            "tags": []
          },
          "execution_count": 59
        }
      ]
    },
    {
      "cell_type": "code",
      "metadata": {
        "id": "X26c09oaufJM",
        "colab_type": "code",
        "colab": {}
      },
      "source": [
        "#Klasördeki dosyaların grupları\n",
        "outerlist = []\n",
        "while len(outerlist) < true_k:\n",
        "    outerlist.append([])"
      ],
      "execution_count": 0,
      "outputs": []
    },
    {
      "cell_type": "code",
      "metadata": {
        "id": "36UReWJwuexg",
        "colab_type": "code",
        "colab": {}
      },
      "source": [
        ""
      ],
      "execution_count": 0,
      "outputs": []
    },
    {
      "cell_type": "code",
      "metadata": {
        "id": "uSX9k4LzZl95",
        "colab_type": "code",
        "outputId": "9569db70-5087-4bc4-8338-c94019fdc6c4",
        "colab": {
          "base_uri": "https://localhost:8080/",
          "height": 1000
        }
      },
      "source": [
        "#Klasördeki dosyaların grupları\n",
        "print(\"\\n\")\n",
        "print(\"FILE GROUPS: \")\n",
        "print(\"----------------- \")\n",
        "\n",
        "for x in documents:\n",
        "    Y = vectorizer.transform([x])\n",
        "    prediction = model.predict(Y)\n",
        "    outerlist[int(prediction)].append(x)\n",
        "\n",
        "order_centroids = model.cluster_centers_.argsort()[:, ::-1]\n",
        "terms = vectorizer.get_feature_names()\n",
        "\n",
        "\n",
        "index = 0\n",
        "\n",
        "\n",
        "for iter in outerlist:\n",
        "    print(\"DOCUMENTS GROUP %d\" % index)\n",
        "    print(iter[:5], sep=', ')\n",
        "    print(\" \")\n",
        "    \n",
        "    print(\"-----------------\")\n",
        "\n",
        "\n",
        "    print(\"GROUP DESCRIPTIVE KEYWORDS\" )\n",
        "    for ind in order_centroids[index, :10]:\n",
        "        print(' %s' % terms[ind]),\n",
        "    index = index + 1\n",
        "    print(\"-----------------\")\n",
        "\n"
      ],
      "execution_count": 0,
      "outputs": [
        {
          "output_type": "stream",
          "text": [
            "\n",
            "\n",
            "FILE GROUPS: \n",
            "----------------- \n",
            "DOCUMENTS GROUP 0\n",
            "[' işte son ankete göre ak_parti nin oy oranı ak_parti genel_başkan_yardımcısı ve parti sözcüsü hüseyin_çelik ak_parti nin son oy oranını açıkladı çelik anar \\x92 ın türkiye çapında bir anket yaptığını belirterek ankette \\x94 hükümetin performansını nasıl buluyorsunuz \\x94 diye sorulduğunu söyledi çelik şöyle devam etti \\x94 başarılı diyenler yüzde \\x92 tir ak parti \\x92 ye oy vermeyen bir kısım insanlar da hükümetin performansını başarılı buluyorlar sayın_başbakan \\x92 ın lider olarak başbakan olarak performansını nasıl buluyorsunuz sorusuna karşı vatandaşın yüzde 6 \\x92 sı başbakan \\x92 ı çok başarılı buluyor ak_parti \\x92 nin oyu da haziran seçimlerindeki oy oranıdır yüzde yüzde oyumuz duruyor bu yüzde oluyor oluyor ama çok şükür bugüne kadar yüzde \\x92 nin altına düşmedik \\x94', ' dershane sayısı azalıyor milli_eğitim_bakanı_ömer_dinçer izlenen politikalar doğrultusunda son yıllarda özel dershane sayılarında bir azalma eğilimi görüldüğünü söyledi dinçer 2009 eğitim öğretim yılında açık olan toplam dershane sayısı bin ye ulaşmışken kasım tarihi itibarıyla bu sayı bin ya düşmüştür dedi milli_eğitim_bakanı_ömer_dinçer tbmm_plan ve bütçe_komisyonu nda yaptığı sunumda zorunlu eğitim süresini yıla çıkarmanın gelişmiş ülkelerle türkiye arasındaki mesafeyi tam anlamıyla kapatmayacağını söyledi çünkü artık dünyanın önde gelen ülkeleri liseyi tamamlayan öğrencilerinin tümünü üniversiteli yapma stratejileri üzerinde çalışmaktadır diyen dinçer şöyle devam etti bizim de üniversite zorunlu olmasa bile tüm öğrencilerimizin üniversiteye devam edebilme imkânı sunan paralel stratejiler üzerinde çalışmamızın zamanı gelmiştir bu kapsamda bakanlığımız sekiz ve dokuzuncu kalkınma planlarında öngörülen istikrar içinde büyüyen gelirini daha adil paylaşan küresel ölçekte rekabet gücüne sahip bilgi toplumuna dönüşen ve avrupa_birliği ne üyelik için uyum sürecini tamamlamış bir türkiye vizyonuyla türk eğitim sistemini okul öncesinden yükseköğretime kadar yaygın eğitimi de içerecek şekilde yeniden yapılanma çalışmaları devam etmektedir norm kadro doluluk orani ülke genelinde yüzde e ulaşti dinçer yılından bu yana bin öğretmenin göreve geldiğini hatırlatarak yürüttüğümüz çalışmalarla norm kadrolarımızın doluluk oranı ülke genelinde yüzde e ulaşmıştır yılında yapılan ve cumhuriyet tarihinin bir yıl içerisinde en yüksek sayıda öğretmen istihdamına tekabül eden bin öğretmenin ağırlıkla doğu ve güneydoğu_anadolu bölgesi ndeki illere atanmasıyla bu illerimizin norm kadro doluluk oranı ise yüzde ın üzerine çıkartılmıştır amacımız bütün norm kadrolarımızı doldurarak eğitimde fırsat eşitliğinin sağlanmasıdır şeklinde konuştu mesleki ve teknik eğitimin ortaöğretim içerisindeki payi yüzde ye yükseldi mesleki ve teknik ortaöğretimin türkiye için önemine değinen dinçer 2003 eğitim öğretim yılı itibarıyla mesleki ve teknik eğitimin orta öğretim içerisindeki payı açık öğretim öğrencileri hariç yüzde 8 iken 2012 eğitim öğretim yılında yüzde 95 e çıkarılmıştır 2014 millî eğitim_bakanlığı stratejik planı nda hedeflediğimiz yüzde oranına oldukça yaklaşmış bulunuyoruz ifadesini kullandı özel dershane sayilarinda azalma eğilimi görülüyor meb stratejik planı nda toplumun değişen ve çeşitlenen eğitim taleplerinin karşılanması eğitim sisteminin daha da gelişmesi özel öğretimin eğitim sistemi içerisindeki payının artırılması özel sektörün finansal gücünün eğitim yatırımlarına dönüştürülmesinin amaçlandığını söyleyen dinçer şöyle devam etti hükümet olarak bu yönde özendirici tedbir ve teşvikler sağlanmaya devam edilecektir bakanlığımız stratejik planı nda yılı sonuna kadar özel sektörün finansal gücünden faydalanmak üzere özel öğretim kurumlarının eğitim sistemi içindeki payının okul sayısına göre yüzde a öğrenci sayısına göre de yüzde e çıkarılması hedeflenmektedir izlenen politikalar doğrultusunda son yıllarda özel dershane sayılarında bir azalma eğilimi görülmektedir 2009 eğitim öğretim yılında açık olan toplam dershane sayısı bin ye ulaşmışken kasım tarihi itibarıyla bu sayı bin ya düşmüştür güvenlik kamerasi yerleştirilmesine ilişkin ödenek milyon_tl ye yükseldi okullara ayrılan ödeneklerin artırıldığını söyleyen dinçer şu bilgileri aktardı yapılacak tadilat küçük onarım ve diğer benzeri işler için ayrılan ödenek yılında yüzde artırılarak milyon tl ye çıkarılmıştır okullarımızın yakacak alımları tertibinde yer alan milyon tl olan ödenek yılında yüzde artışla milyon tl ye yükseltilmiştir okul ve kurumlarının güvenliğinin sağlanması amacıyla güvenlik kameraları yerleştirilmesine ilişkin ödenek bin tl den yılında milyon tl ye çıkarılmıştır okulların depreme karşı dayanıklılığının artırılması amacıyla yılından bugüne kadar 5 milyon tl ödenek ayrılmış ve güçlendirme çalışmalarında kullanılmıştır yılı içinde milyon tl ödenek öngörülmüştür cihan', ' buğday üretimi azaldı gıda tarım ve hayvancılık_bakanı_mehdi_eker antalya da gerçekleştirilen tarım bakanları toplantısının ardından basına açıklamada bulundu üye ülke tarım bakanları ile antalya deklarasyonu nun kabul edildiğini belirten bakan_eker büyük üretici ülkelerde yaşanan kuraklık gibi doğal afetler temel gıda ürünleri üretiminde azalmaya seviyelerde yol açacak boyutlardadır dünyadaki stok seviyelerinin de önceki yaşanan krizler sonrasında düşük seyretmesi konuya acilen önlem alınması gereken bir durum niteliği kazandırmıştır dedi buğday üretimi yüzde 6 azaldi yılında dünyada tahıl üretiminin bir önceki yıla göre yüzde 6 azalarak milyar milyon ton olarak gerçekleşeceğinin tahmin edildiğine değinen bakan_eker buğday üretiminde yüzde 2 oranında bir üretim kaybı beklendiğini belirtti eker üretimdeki azalmanın kısa vadede gıda fiyatları üzerinde bir baskı oluşturabileceğine de işaret etti ilave milyon ton et ve milyar ton hububat gerekiyor önümüzdeki yıllık dönemde artan gıda ihtiyacının karşılanması için tarımsal üretimin en az yüzde 100 oranında artırılması gerektiğine dikkati çeken bakan_eker bunun anlamı yılına kadar her yıl ilave milyon ton et ve milyar ton hububat üretilmesi gerektiğidir dedi bölgenin gida merkezi olmaya adayiz türkiye nin gerek coğrafi pozisyonu gerekse sahip olduğu altyapı yetişmiş insan gücü tarımsal üretimi tarımsal sanayisi ve teknolojisi ile bölgenin gıda merkezi olmaya aday olduğunun altını çizen bakan_eker özellikle gıda hammaddelerin üretiminde türkiye nin büyük potansiyeli bulunduğuna işaret etti eker ülkelerin işbirliği yaparak alacağı önlemlerin uluslararası fiyat dalgalanmalarını veya bunun olumsuz etkilerini azaltacağına inandığını aktardı dha', ' rus halkının yüzde sı apolitik rus araştırma şirketlerinden levada nın yaptığı araştırmaya göre halkın yüzde sının politika ile ilgilenmediği ortaya çıktı rusya nın ayrı bölgesinde ankete katılan kişiden sadece yüzde sı siyasetle ilgilendiklerini söyledi halkın yüzde sı ülkende siyasete dahil olmak için yeterli imkanın olduğunu düşünürken yüzde ü fırsatların yetersiz olduğundan şikayetçi ankete katılanların büyük bir çoğunluğu yüzde sokak eylemlerinin siyasi süreci değiştirmediğini düşünüyor bununla birlikte halkın yüzde i sokak eylemlerinin sivil bir hak olduğunu yönetimin bunları engellemeye yönelik çalışmalarının da anti demokratik olduğunu savunuyor rusya nın ihtiyaçları konusunda ise halk ikiye bölünmüş durumda halkın yönetimi kontrol altında tutması gerektiğini düşünenlere yüzde karşı güçlü bir yönetim talep edenler yüzde yer alıyor sorunların çözümü için mahkemelere gidilmesi gerektiğini düşünenler ise azınlıkta çoğunluk hakkını aramak için medya gibi başka alternatif yollara başvurmayı tercih ediyor', ' abd de milyon insan açlık sınırında yaşıyor abd de milyon insanın açlık sınırında yaşadığı bildirildi nüfus sayım ofisine göre abd de yılında nüfusun yüzde 1 i açlık sınırında yaşadı resmi rakamlar ise oranın yüzde olduğunu göstermişti her iki oran yılının sonuçlarından çok daha farklı elde edilen verilerin bölgelere göre farklılık gösterdiği belirtildi sosyal güvenlik ve sağlık giderlerin sonuçlar üzerinde önemli bir etken olduğu ifade edildi şayet yaş ve üstü insanlar sosyal güvenlik masraflarını kendi ceplerinde harcamaz ise açlık sınırının yüzde lere kadar düşebileceği belirtildi yoksulluk sınırının artmasında vergi iş ve sağlık gideleri önemli bir faktör olarak gösteriliyor sağlık giderleri 6 milyon insanın çalışma giderleri ise 3 milyon insanın açlık sınırı altında yaşamasına neden oluyor cihan']\n",
            " \n",
            "-----------------\n",
            "GROUP DESCRIPTIVE KEYWORDS\n",
            " yüzde\n",
            " lira\n",
            " dolar\n",
            " yılın\n",
            " endeksi\n",
            " türkiye\n",
            " oranında\n",
            " satış\n",
            " artış\n",
            " azalarak\n",
            "-----------------\n",
            "DOCUMENTS GROUP 1\n",
            "[' demokrasimiz ilerliyor ama hatalar da var cumhurbaşkanı_abdullah_gül foreign affairs dergisine verdiği mülakatta gündeme ilişkin konuları değerlendirdi cumhurbaşkanı_abdullah_gül ün ekim ayında foreign affairs dergisinden jonathan tepperman a verdiği mülakat derginin son sayısında yayımlandı demokratikleşme cumhurbaşkanı_gül bazı yabancı ve türk gözlemciler türk_hükümeti nin demokratik süreçte geride kalmaya başladığı endişesini dile getiriyor yakın zamanlarda gazetecilerin tutukluluklarına ve kürt parlamenterlerin yasaklanmalarına getirdiğiniz eleştiriler bu endişeleri paylaştığınız anlamına mı geliyor sorusu üzerine türkiye de demokrasinin geriye gittiği yorumlarının kesinlikle doğru olmadığını belirtti gül şunları kaydetti tam tersine ilerliyoruz ve her gün köklü reformlar gerçekleşiyor tabii ki uygulamada bazı hatalar var ve ben de bu yüzden bu hatalara dikkat çekmek istedim bu hatalı uygulamalara dikkat çekmek istedim çünkü bunların reform ve demokratikleşme sürecinin üzerine gölge düşürmelerine izin vermek istemiyorum mesela siz gayet doğal olarak bu konuda bir soru sordunuz türkiye nin üzerine gölge düşmesi derken bahsettiğim şey tam da bu bu durum beni çok üzüyor işte bu yüzden de ne zaman bir hatalı uygulama görsem hemen o anda uyarıda bulunuyorum türkiye nin arap ülkeleri üzerindeki rolü gül türkiye nin ortadoğu da yeni arap demokrasileri nezdindeki rolünün sorulması üzerine arap dünyasında hiçbir rol üstlenmediklerini belirtti eğer bazıları bizi örnek olarak alıyor veya bizden ilham alıyorlarsa kendi tercihleridir onlarla dayanışma halindeyiz çünkü her milletin tarihi süreçte inişleri ve çıkışları olur ifadesini kullanan gül türkiye nin örnek alınmasından mutlu olacaklarını dayanışmanın bir gereği olarak yardım ettiklerini ama kimseye ağabeylik yapma niyetinde olmadıklarını vurguladı güç dengesi asya ya kayacak abdullah_gül mülakatta gelecekte dünya ekonomisi ve güç dengesinin asya ya doğru kayacağını dolayısıyla siyasetin dengesinin de bu yönde kayması gerektiğini dile getirdi türkiye batı ilişkileri üzerine soruları yanıtlayan gül abd ve avrupa türkiye nin önemini kabul etmeye başlamalı ve türkiye onlar için daha önemli olmalı ifadesini kullandı türkiye nin yönünü batı dan çevirdiği yorumlarının hatırlatılması üzerine gül bu yorumların haksız olduğunu türkiye nin ab ye tam üye olmak için mücadele ettiğini dile getirdi gül türkiye nin bütün avrupa kurumlarında yer aldığını belirterek bölgemizde daha aktif olmaya başladığımız gerçeği türkiye nin yönünü değiştirdiği ya da avrupa dan uzaklaştığı şeklinde yorumlanmamalıdır biz sürekli avrupa standartlarını ülkemize adapte ediyoruz bu tür yorumlar yüzeysel ve sağlam bir temele dayalı değil ab deki dostlarımız bu yorumları türkiye nin üyeliğine ilişkin sorumluluklarından kaçmak için bahane ediyor olabilirler yorumunda bulundu gül ab ülkelerinin yaşadığı ekonomik sorunların geçici olduğunu gelecekte avrupa için farklı formların da konuşulduğunu hatırlattı rusya suriye de sürece dahil edilmeli abdullah_gül rusya dan suriye ye gitmekte olan uçağın türkiye tarafından indirilmesinin bölgede tansiyonun arttığının işareti mi sorusu üzerine suriye ile türkiye arasında ikili sorun olmadığını problemin suriye deki rejimin halkına karşı gerçekleştirdiği insan hakları ihlali olduğunu kaydetti türkiye nin uzun bir sınırı olan komşusunda yaşanan gelişmelerden etkilendiğinin altını çizen gül suriye halkının taleplerini desteklediklerini ancak daha fazla can kaybının önlenmesi için rusya ve iran ın da geçiş sürecine adapte edilmesi gerektiğini başından beri dile getirdiğini belirtti rusya nın libya da batı yı desteklediğini ama geçiş sürecinden dışında tutulduğunu vurgulayan gül dolayısıyla_suriye de rusya da işin içinde olmalı geçiş sürecinin bir parçası olacağının ve mülahazalarının dikkate alınacağının garantisini alabilmeli ifadelerini kullandı gül türkiye nin suriye ye libya benzeri bir müdahale isteyip istemediğinin sorulması üzerine de suriye ye libya benzeri açık bir dış müdahalenin doğru olmadığını düşündüklerini belirtti uluslararası toplumun suriye ye yönelik tutumunun retoriğin ötesine geçmesi gereğinin altını çizen gül bir buçuk yıl önce kriz patlak verdiğinde biz sistemli bir değişim için çok çaba harcadık iletişim kurduk değişimi sağlamak için rejimle ilişkilerimizi devam ettirdik çok iyi hatırlıyorum bazı batılı dostlarımız bize bu konuda süre tanımaya istekli değillerdi ben şimdi onları daha anlamlı davranmaya çağırıyorum ifadelerini kullandı gül türkiye suudi_arabistan ve katar la birlikte muhaliflerin silahlanmasına yardım ediyor mu sorusuna da hayır komşu ülke olduğumuz için kapımız suriye halkına açık onları hoş karşılıyoruz ve insani ihtiyaçlarını sağlıyoruz diye cevap verdi israil türkiye ilişkileri cumhurbaşkanı_abdullah_gül israil türkiye ilişkilerinin mevcut durumu ve geleceğine ilişkin soruları da yanıtladı iki ülke arasındaki ilişkilerin mevcut durumunun israil in kendi yanlışlarının sonucu olduğunu vurgulayan gül bütün dünyanın bunu bildiğini israil in müttefiklerinin bile israil e bunu doğrudan söyleyemeseler dahi kendilerine bu görüşleri açıkça söylediklerini kaydetti israil le mevcut sorunların türkiye nin askeri seçeneklerini etkilemediğini anlatan gül daha önce israil den insansız hava araçları türü çeşitli askeri teknoloji alındığını ancak türk_silahlı_kuvvetleri nin hiçbir şekilde israil e bağımlı olmadığını vurguladı israil in türkiye ile ilişkilerini düzeltmek ve tazminat ödemek için bazı girişimlerin olduğunu belirten gül ancak bu girişimlerin israil deki iç politik kaygılar dolayısıyla tamamlanamadığını bildirdi gül türkiye nin ilişkilerin düzelmesi için gazze ye uygulanan ambargonun kalkması şartının hatırlatılması üzerine de ambargo sorununun sadece türkiye nin meselesi olmadığını ab bm ve abd yi de ilgilendirdiğini ifade ederek çünkü herkes ambargonun kalkması gerektiğini biliyor ifadesini kullandı iran ın nükleer programı abdullah_gül türkiye ortadoğu da nükleer silahsızlanma çağrısı yapıyor ancak niçin batılı ülkeler kadar iran ın nükleer programını sorun etmiyor sorusuna şöyle cevap verdi türkiye hiçbir komşu ülkenin nükleer silahlara sahip olmasını istemez türkiye kendinde olmayan silahların komşularında olmasını kabul etmeyecektir bu meseleyi hiçbir şekilde küçümsemiyoruz fakat biz daha gerçekçiyiz ve ihtiyacımız olan şey bu meseleye daha kapsamlı bir çözüm ve yaklaşımdır burada önemli olan şey israil in bölgedeki güvenliğini garanti altına almaktır fakat bu garanti ile birlikte gelmesi gereken diğer adım bölgedeki tüm benzer silahların ortadan kaldırılmasıdır bu da ancak barış ile mümkün olabilir iran ın nükleer programını durdurmanın yolunun israil in silahsızlandırılmasından geçtiğini mi söylemek istiyorsunuz sorusu üzerine de gül ben öyle görüyorum çünkü bu yol haritası ortadoğu nun bütün dünyayı etkileyen köklü problemlerinin çözümüne yardımcı olabilir ifadesini kullandı aa', ' suriye \\x92 deki tutuklu gazetecileri almak için chp \\x92 li heyet suriye \\x92 ye gidecek suriye de yaklaşık aydır tutuklu bulunan gazeteci cüneyt_ünal ın serbest bırakılması için kişilik heyet hatay dan bu ülkeye gidecek chp hatay milletvekilleri refik eryılmaz mevlüt dudu hasan_akgöl ve ankara milletvekili levent_gök ile ehli beyt kültür ve dayanışma_vakfı genel_başkanı ali yeral ın da aralarında bulunduğu kişilik heyetin öncelikli olarak gazeteci cüneyt_ünal ı teslim almak için suriye ye geçeceği açıklandı chp hatay milletvekili refik eryılmaz geçtiğimiz aylarda suriye devlet_başkanı beşar esed ile yaptıkları görüşmede konunun gündeme geldiğini söyledi esed in tutuklu gazeteci cüneyt_ünal ın serbest bırakılmasına ilişkin yardımcı olabilme sözünü verdiğini aktaran eryılmaz yaklaşık ay önce suriye ziyareti gerçekleştirdik orada devlet_başkanı ile görüşme imkânımız oldu o görüşmemizde tutuklu gazetecilerin serbest bırakılması ile ilgili bir talebimiz oldu tabi orada kendisi türk gazetecilerin tutuklu olduğundan haberim yok bunu araştıracağım böyle bir şey varsa biz elbette ki size yardımcı olmak isteriz dedi daha sonra yetkililerle yaptığımız görüşmelerde özellikle cüneyt ile ilgili olarak kendi ellerinde olduğunu ve verebileceklerine yönelik açıklamalarda bulundular diye konuştu cüneyt_ünal ı almak üzere günlük süreç içerisinde suriye ye gideceklerini bunun için bir heyet oluşturduklarını söyleyen eryılmaz yine suriye de bulunan gazeteci başar fehmi kadumi içinde girişimlerde bulunduklarını aktararak bunun üzerine biz bir heyet oluşturmaya karar verdik şu anda milletvekili ile beraber hatay milletvekilleri mevlüt dudu hasan_akgöl ankara milletvekilimiz levent_gök le beraber ehdav başkanı ali yeral ve diğer basın temsilcilerinden oluşan yaklaşık kişilik bir heyetle beraber suriye ye gidip her iki gazeteciyi yani eşi türk olan filistin asıllı ürdün vatandaşı olan beşşar ı da getirmek istiyoruz tabi biz bu gazetecileri insanlık adına bu tamamen barışa katkı sunma düşüncesiyle biz bunlara sahip çıkıyoruz onları türkiye ye getirmeye çalışıyoruz başka bir amacımız yok bu güne kadar bu gazeteci arkadaşlarla ilgili girişimlerde bulunulmaması da ayrıca sorgulanması gerekiyor biz cumhuriyet_halk_partisi olarak sivil toplum örgütleri ile beraber bu gazetecileri türkiye ye ailelerine kavuşması için bir mücadele veriyoruz bu bir iki gün içerisinde suriye ye gidip bu arkadaşları getirmeye çalışacağız şeklinde konuştu cüneyt_ünal ın getirilmesine yönelik bir sıkıntı çıkmayacağını ancak gazeteci başar fehmi kadumi için kesin bir söz veremeyeceklerini aktaran eryılmaz cüneytle ilgili bir sıkıntı yok gibi görünüyor diğer gazeteci arkadaşımızla ilgili pozisyonunu bilmiyoruz onunla ilgili ayrıntılı bir bilgiye sahip olmadığımız için şuan da kesin bir şey söyleyemiyoruz ama biz giderken öbür gazeteci arkadaşımızı da getirmek istiyoruz bunun mücadelesini vereceğiz ama oraya gittikten sonra onla ilgili net bir açıklama yapabiliriz diye konuştu milletvekili eryılmaz birkaç gün içerisinde bu işi çözebileceklerini düşündüklerini suriye ye gidiş ile ilgili ilgili bir açıklama yapılmayacağını ancak geldikten sonra basın açıklaması yapacaklarını da sözlerine ekledi', ' davutoğlu esad ın elini sıkmaktansa istifa ederim dışişleri_bakanı_ahmet_davutoğlu suriye devlet_başkanı esad ın iktidarda kalma olasılığını değerlendirdi davutoğlu esad kalacak olursa elini sıkmaktansa istifa ederim dedi dışişleri_bakanı_ahmet_davutoğlu istanbul a gelmeden önce suriye toplantısı için fas taydı dönüş yolunda gazetecilerin sorularını yanıtlayan davutoğlu suriye devlet_başkanı beşşar_esad ın kısa bir süre sonra gideceğinden emin olduğunu söyledi esad ın iktidarda kalması olasılığını değerlendiren davutoğlu esad kalacak olsa bile elini sıkmaktansa istifa etmeyi tercih ederim dedi kürtleri karşi taraf olarak görmeyiz suriye nin kuzeyindeki kürt oluşumunu de değerlendiren dışişleri_bakanı_ahmet_davutoğlu biz ortadoğu \\x92 da kürtleri karşı taraf olarak görmeyiz şeklinde değerlendirdi irak \\x92 taki federalizm döneminde türkiye nin kuzey_irak \\x92 la ilişkilerinin daha da geliştiğini anlatan dışişleri_bakanı davutoğlu isteriz ki kürtler suriye \\x92 de de etkili rol oynasın dedi türkiye nin suriye deki kürt oluşumu pyd ye karşı tutumunun kürtlükle alakalı olmadığını ifade eden davutoğlu esas sorun pyd \\x92 nin rejimle işbirliği yapıyor olması ve pkk bağlantısını reddetmemesi yoksa kürt meselesi yüzünden bir tehdit algısı içinde değiliz pyd \\x92 ye aynı şahiba gibi rejimle işbirliği yaptığı için terör estirdiği için karşıyız dedi dışişleri_bakanı davutoğlu seçilmiş bir suriye parlamentosu oluşmadan bölgede gayri resmi bağımsız yapılar oluşturulmasına türkiye nin izin vermeyeceğinin de altını çizdi', ' biz_suriye nin tamamından yanayız loğoğlu chp suriye de ne muhalefetten ne de rejimden yana chp genel_başkan_yardımcısı faruk_loğoğlu suriye de mevcut rejimin sıkıntılı bir rejim olduğunu öteden beri söylediklerini belirterek chp ne muhaleffetten ne de rejimden yana biz_suriye nin tamamından yanayız dedi loğoğlu suriyeli muhaliflerin temsilcileriyle yaptığı görüşme konusunda açıklamalarda bulundu suriyeli muhaliflerin ilk defa böyle bir talepte bulunduklarını ve kendilerinin de bunu kabul ettiklerini anlatan loğoğlu görüşmenin yaklaşık iki saat sürdüğünü kaydetti toplantıda görüşlerin aktarıldığını dile getiren loğoğlu muhaliflerin suriye de hiçbir şekilde esad rejimin yer aldığı bir geçiş dönemini kabul etmediklerini ifade etti muhaliflerin türkiye nin tutumundan memnun olduklarını dile getirdiğini anlatan loğoğlu başka ülkelerin kendilerine destek vermediklerini söylediklerini kaydetti muhalefetin veya rejimin yanında oldukları için bu görüşmeyi yapmadıklarını vurgulayan loğoğlu muhalifleri dinlemek için bu görüşmenin yapıldığını belirtti askeri müdahale olmadan geleceğin belirlenmesini istediklerini ifade eden loğoğlu öncelikle şiddetin sona ermesi için chp nin gayret ve çalışmaların devam edeceğini belirttiklerini vurguladı türkiye taraf tutmaktansa rejim ve muhalefet arasında bir diyaloğu teşvik etmesi gerektiğini dile getiren loğoğlu suriye deki kürtler konusunda muhaliflerin onlarında bir bütünlük içinde haklarının verileceğini söylediklerini aktardı suriye yi çok zor ve kötü günler beklediği gibi bir sonuç çıkardıklarını ifade eden loğoğlu suriye halkının tamamının bir yaklaşım içinde olduklarının altını çizdi genel_başkanın programı müsait olmadığı için muhaliflerle görüşemediğini anlatan loğoğlu daha önce kendisinin esad ile görüştüğünü söyledi chp nin suriye konusunda bir görüş değişikliği bulunmadığını belirten loğoğlu mevcut rejimin sıkıntılı bir rejim olduğunu öteden beri söylediklerini hatırlattı loğoğlu chp ne muhaleffetten ne de rejimden yana biz_suriye nin tamamından yanayız dedi muhaliflerin suriye halkının tamamını temsil edip etmediğinin sorulması üzerine loğoğlu suriye halkının tamamını temsil etmiş olsalarda olaylar bu kadar sürmezdi evet rejime karşı olanlar var ve rejimin yanında olanlar var herkes karşı olsaydı bunu görürdük esad da görürdü karşılığını verdi loğoğlu görüştüğü heyetin bütün ülkeyi kapsayan görüş ve grupları kapsayan bir heyet olmadığını da söyledi', ' çelik patriotların tetiği bizde olacak hüseyin_çelik füze savunma sistemi ile ilgili olarak yurt dışından asker gelecek mi gelecek uzman insanlar gelecek ama bunun tetiği kimde olacak diye sorarsanız tetiği bizde olacak bizim genelkurmayımızda olacak tetik bizim askerimizde olacak dedi ak_parti genel_başkan_yardımcısı hüseyin_çelik suriye sınırına füze savunma sistemi yerleştirilmesiyle ilgili olarak patriotların mülk sahibi yani sistemin sahibi nato dur tabii ki diğer ülkelerden bu konuda uzmanlar gelecek bu uzmanlar asker uzman da olabilir yurt dışından asker gelecek mi gelecek uzman insanlar gelecek ama bunun tetiği kimde olacak diye sorarsanız tetiği bizde olacak bizim genelkurmayımızda olacak tetik bizim askerimizde olacak diye konuştu çelik parti genel merkezinde gündemdeki konulara ilişkin düzenlediği basın toplantısında suriye sınırına füze savunma sistemi yerleştirilmesiyle ilgili değerlendirmelerde bulundu ak_parti sözcüsü çelik bu nato nun türkiye ye ve nato nun kendisine sağlayacağı bir imkandır türkiye nin kendi özellikle savunmasının da güçlenmesi bu manada daha büyük bir özgüven içinde olması açısından da bu son derece önemlidir burada garipsenecek bir şey yok diye konuştu balistik füzelerin ve balistik füzelere karşı savunma sistemlerinin pahalı olduğuna dikkati çeken hüseyin_çelik nato üzerinden türkiye ye bir imkan sağlanmış olmasını çok önemli buluyoruz dedi tetik bizim askerimizde olacak ak_partili çelik patriotların mülk sahibi yani sistemin sahibi nato dur tabii ki diğer ülkelerden bu konuda uzmanlar gelecek bu uzmanlar asker uzman da olabilir yurt dışından asker gelecek mi gelecek uzman insanlar gelecek ama bunun tetiği kimde olacak diye sorarsanız tetiği bizde olacak bizim genelkurmayımızda olacak tetik bizim askerimizde olacak ifadelerini kullandı füze savunma sistemlerinin devreye girmesi için 15 saniye gibi kısa sürelerin söz konusu olduğuna dikkati çeken ak_parti sözcüsü çelik şunları söyledi 15 saniye içinde karar verilmesi gerek size doğru bir füze atıldı veya bir uçak sınırınızı ihlal etti ondan daha hızlı bir şekilde buradan ateşlediğiniz bir füzenin gidip onu vurması gerekiyor dolayısıyla tetik türkiye de olacak nerede olması gerektiği ise bir uzmanlık işidir stratejik açıdan askeri açıdan hassasiyet gerektiren yerlerdir bunun kararını uzmanlar verecektir tabii ki tsk siyasi iradenin emrindedir ama işin teknik boyutu onlar tarafından kararlaştırılacaktır kürecik in israil le ilgisi yok chp_genel_başkanı_kemal_kılıçdaroğlu nun kürecik teki erken uyarı radar sistemine yönelik eleştirilerine cevap veren ak_parti sözcüsü hüseyin_çelik orada yine nato ya bağlı olarak erken uyarı radar sistemi kurulmuştur türkiye ye yönelik nato ya yönelik bir ülke nato ülkesiyle o ülkenin sınırları nato nun sınırlarıdır dedi kürecik israil i korumak için yapıldı iddiasına da cevap veren çelik kürecik in israil le israil hükümetiyle yapılan bir anlaşma çerçevesinde doğrudan veya dolaylı bir ilgisi yoktur siz diyorsunuz ki siz fifa nın üyesi olacaksınız ama fifa nın aldığı kararlar bizi bağlamaz yok böyle bir şey eğer bir nato ülkesiyseniz alınan kararların külfeti varsa katlanacaksınız nimeti varsa bu nimetten de faydalanmak durumundasınız dedi chp nin ekseni iran ve suriye chp nin nato ya hayır diyemediğini belirten çelik chp günün birinde bir varsayım olarak iktidar olursa türkiye yi nato dan çıkaracak mı hayır ne yapılıyorsa önce milyon insanımızın menfaati güvenliği için yapılıyor elbette biz bir savunma paktı içindeyiz bu savunma paktının nimetine ve külfetine katlanmak zorundayız milli meselelerde hükümeti zor duruma düşüreceğiz diye boşuna gayret göstermesinler türkiye yi zor duruma düşürmesinler dedi muhalefetin ak_parti iktidarının yürüttüğü dış politikaya eksen kayması eleştirilerinde bulunduğunu ifade eden çelik chp nin kendi ekseni iran ve suriye ye kilitlendi bu nasıl bir eksendir dedi başbakan_erdoğan ın yakın zamanda endonezya ya ziyaret gerçekleştirdiğini bugün pakistan da olduğunu yakında da ispanya ya gideceğini hatırlatan çelik bütün dünya bizim dış politika radarımız içindedir antenlerimiz bütün dünyayı kapsayacak biçimdedir dedi geçen hafta mısır da üniversitede yaptığı konuşması sırasında mısırlı gençlerin başbakan_erdoğan a gösterdikleri sevgi ve coşkunun türkiye deki ak_parti mitinglerinde bile yaşanmadığını söyleyen hüseyin_çelik islam dünyasının önemli bir bölümünü diktatörler idare ediyor islam ülkeleri diktatörlerinden kurtulmaya çalışıyor arap_baharı bundan kurtulmak için bir fırsattır türkiye arap_baharı nın sonbahara dönüşmemesi için elinden geleni yapıyor bizim muhalefetten beklediğimiz yanlışlar varsa yanlışlara dikkat çekin ama her meselede iktidarı zor duruma düşürmek isterken kendi ülkenizin elini zayıflatacak hamlelerde bulunmayın diye konuştu']\n",
            " \n",
            "-----------------\n",
            "GROUP DESCRIPTIVE KEYWORDS\n",
            " suriye\n",
            " israil\n",
            " gazze\n",
            " türkiye\n",
            " hamas\n",
            " filistin\n",
            " in\n",
            " nato\n",
            " rusya\n",
            " askeri\n",
            "-----------------\n",
            "DOCUMENTS GROUP 2\n",
            "[' milyon ile ön seçim vaadi mhp nin olağan büyük kurultayı nda konuşan genel başkan adayı koray_aydın seçimlerden önce partinin üye sayısının milyona ulaştırılması hedefini koyarak ön seçim uygulaması vaadinde bulundu mhp nin olağan büyük kurultayı nda konuşan genel başkan adayı koray_aydın seçimlerden önce partinin üye sayısının milyona ulaştırılması hedefini koyarak ön seçim uygulaması vaadinde bulundu genel_başkan adayı koray_aydın kürsüye beklenirken yapılan tezahüratlar ve ıslıklamalar üzerine divan başkanı tuğrul_türkeş mhp nin genel başkanlığı da genel başkan adaylığı da saygıdeğer işlerdir bu salondaki herkes ciddiye almak zorundadır dedi ve taşkınlıklara izin verilmeyeceğini salonda sükunet sağlanmadan konuşmaların başlamayacağını vurguladı türkeş devlet_bahçeli nin kurultay açılışında konuştuğu için adaylık nedeniyle ikinci bir konuşma yapmayacağını açıkladı konuşmasında kurultayın mhp nin tek başına iktidarına vesile olmasını dileyen aydın ak_parti nin mhp yi eleştirirken kaleleri bir bir fethederek yollarına devam ettiklerini söylediğini hatırlatarak iktidarın basın ve sivil toplumu susturduğunu ifade etti ak_parti nin bürokraside taş üstüne taş bırakmadığını ileri süren aydın ülkücüleri düşman kabule ederek onları kıyma makinelerinden geçirecek bir zihniyetle sürgün ederek oraya buraya saldırarak bürokrasideki ülkücü kadrolara savaş açtılar dedi yaşanan bütün skandalların ardından devleti çete mantığıyla yöneten siyasi iktidarın olduğunu savunan aydın iktidarın belediyelere sahte raporlarla ve dinlemelerle saldırdığını savunan aydın arkasından habur dan içeri soktukları vatan hainlerine karşılama törenleri yetmez gibi oslo da teröristlerle kurdukları pazarlık masalarında suçüstü yakalanınca da ben görmedim diyerek bunu ispat edecek biri varsa şerefle ispat etsin diyerek ses kayıtları çıkınca da kıvırarak sahiplenemeyerek yaptığı işin üzerine şal örtmeye çalışarak siyasi riyakarlıkta sınır tanımayan siyasi iktidarla karşı karşıyayız diye konuştu mintika temizliği yapiyorlar ak_parti nin ne yaptığını iyi bildiğini türkiye de ihtilal teşebbüsü var diyerek ordunun subaylarını yargılama adı altında cezaevine koyduğunu savunan aydın önce milletin bu darbeciler ortadan kalksın diyerek desteklediği sonra plan gereği sürek avına çevirerek türk ordusunun neredeyse yarısını içeri atan bu zihniyet mıntıka temizliği yapıyor kuracakları yeni türkiye modeline engel olmasın diye bunları kaldırıyorlar bu işi haince yapanlar ne zaman ki şehit cenazeleri türkiye yi ağlatmaya başlarken acılarımızla yaşarken türkiye nin başbakanı gerekirse öcalan la yeniden görüşebilirim diyor sayın_başbakan ne görüşeceksin öcalan la ne söyleyeceksin oraya bir masa koymuşsun masanın üstünde türkiye karşında öcalan ne kadar istiyorsun şu kadar versem yeter mi diyeceksin öcalan yüzsüzlük eder de türkiye nin tamamını isterse ne yapacaksın diye konuştu o zaman ne yapacağiz yeni anayasa kapsamında türk milletinin adının anayasadan çıkarılarak bir alt kimlik haline getirileceğini türk milletine etnisite temelli yaklaşılacağını savunan aydın bu_türk milletinin varlığını ötüken de söğüt te türk olan türk milletinin varlığını ortadan kaldırma çabasıdır bu işin sonudur çünkü şu anda kendisiyle benzeşen anamuhalefetle anlaşıp anayasadan türk milletinin adını çıkarırlarsa yapılacak bir şey kalmaz meclis sayısal çoğunlukla yönetiliyor bunlar sinsi her işi alttan alttan götürüyorlar böyle bir adım atar bu büyük milletin adını çıkararak türk milletini bir alt kimlik haline dönüştürürlerse ne yapacağız bunu yaparlarsa yıl yıl sonra bu ülkenin adının türkiye olmasına gerek yoktur derlerse ne yapacağız bu sinsi planı iyi görelim bunu için bir şeyler yapmamız harekete geçmemiz lazım dedi şubat ta milyon olarak toplanirsak … kimsenin türkiye de olanlara arkasını dönemeyeceğini ifade eden aydın özetle şunları söyledi meydanlara ineceğiz türk milletine gideceğiz milletle bütünleşeceğiz onu bekleyen bu tehlikeler hakkında uyaracağız anlatacağız onu yanımıza almaya çalışacağız o büyük gücü harekete geçirir meydanlara iner onların dikkatini çekip yanımıza alırsak şubat ayında milyon olarak toplanırsak hangi vatan hainleri bunu yapmaya cesaret edebilir türk milletinin bunu anlamasını sağlamamız lazım bunun için güçlü bir mhp ye ihtiyaç var yıllık fikri birikimi üzerinden türk milletini bütün problemlerine getireceği çözüm önerilerini bir iktidar projesine dönüştürerek türk milletini karşısına çıkıp iktidar istersek bu coşku ve heyecanı ona aksettirirsek bu millet bu şaşkınlıkla etrafına bakınırken ben nereye bakacağım sorusunu sorarken bu millet elimizi tutacak ve mhp ile yeniden ayağa kalkacaktır hedef milyon üye bu mücadelede ilk doğru adımın ülkücü hareketin birliğini ve dirliğini sağlamak olduğunu kaydeden aydın harekete bir gün bile hizmet etmiş her ülküdaşlarıyla kucaklaşmak ve bir araya gelmek mecburiyetinde olduklarını ifade etti ülkücüleri ülküdaşlık hukuku temelinde kaynaştırmadan büyük hedeflere yürüyemeyeceklerini anlatan aydın bunu temel hareket noktası kabul ediyoruz birey temelli bir hareketin başlaması için önce partide üyelik sistemini bir kampanyaya çevireceğiz seçime kadar milyon üye yaparak ailelerimizin fertlerini genişleteceğiz bunu iller arası yarışa çevireceğiz mhp nin milyon üyeli geniş aile haline gelmesini sağlayacağız dedi önseçim vaadi genel_başkan seçilmesi halinde mhp ailesini genişleteceğini kaydeden aydın bunu yapınca bu milyon kişi kurulan sandıklarla yapacağı bir ön seçimi size vaat ediyorum bunu taban güvenmek demektir böyle bir ön seçim yapıldı mı ankara da kimse genel merkez katlarında dolaşmayacak tabana size gidecek hasta olanın düğünü olanın yanında olacak yere düşeni ayağa kaldıracak böylece bu büyük aile fertleri bir birini anlayacak bu güzel sözün olduğu ortamın inşası demektir bu kötü söz olanın tasfiye edileceği liyakatın esas alınacağı yeni bir sistemin gelmesin demektir bu adımı atar aile fertleri arasında huzuru sağlarsak örgütlenme modelini buna paralel değiştirirsek mhp nin içinde huzur sağlanır diye konuştu bu bir kişiyi korumak için kelle avcısı rolü üstlenip ülküdaşlarını yok farz ederek küskünler ordusu yarattığın bir sitemin anlaşılması demektir diyen aydın mhp her yerde sloganıyla parti içinde hareketlilik sağlayacaklarını halka dokunacaklarını ifade etti ve tabanla bütünleşmiş mhp ye ihtiyaç var bunun içi bir iktidar projesi koyarak aday olduk biz iktidar olmak istiyoruz dedi aydın türk milletinin yalnızlığı yaşadığı bir durumda etrafına bakındığı kendini kaldıracak birini bekleyen türkiye nin mhp nin kendisine ulaşmasıyla yarın elbet bizimdir diye haykıracağını ifade etti haber anka foto emre senoglu murat oztek', ' mesut_yılmaz yüce_divan da ceza alabilirdi prof dr sacit adalı isviçre deki banka eski başbakan mesut_yılmaz ın bankada milyon doları var iddiasına cevap verseydi yüce_divan da hakkında verilen karar daha farklı olabilirdi dedi anayasa_mahkemesi eski üyesi turgut_özal üniversitesi hukuk_fakültesi dekanı prof dr sacit adalı isviçre deki banka eski başbakan mesut_yılmaz ın bankada milyon doları var iddiasına cevap verseydi yüce_divan da hakkında verilen karar daha farklı olabilirdi dedi adalı yüce_divan ın rüşvet aldığı iddia edilen eski yargıtay hukuk_dairesi başkanı hasan erdoğan ile rüşvet vermekle suçlanan istanbul_ticaret_odası başkanı murat_yalçıntaş ın da aralarında bulunduğu sanık hakkında soruşturma evresinde elde edilen delillerden bir kısmının hukuka uygun olmaması nedeniyle verdiği beraat kararını değerlendirdi bu bir takdir meselesidir diyen adalı anayasa_mahkemesi üyelerinin görüşlerine saygı duyduğunu söyledi adalı kanun dışı delillerin davanın seyrini değiştirebilecek durumda ise kabul edilebileceğini belirtti rüşvet alınıp verilirken kameralar çalışmamış tam çekemeyince ortada bir şey yok sadece polislerin gördük dediği olaylar var diyen adalı anayasa_mahkemesi üyelerinin çoğunluğunun bunu kabul etmediğini kaydetti adalı bu üyelerin takip etmenin hakim kararıyla olması gerekirken adalet müfettişinin emriyle yapıldığını söylediklerini karara muhalif olan üyelerin ise müfettişlerin resmi makam oluşları ve güvenlik güçlerinin onların emriyle takip etmesini makul karşıladıklarını belirterek bunu delil saydıklarını bildirdi mesut_yılmaz hakkındaki iddia adalı size göre yasa dışı elde edilen deliller kabul edilebilir mi sorusuna mesut_yılmaz ın da yüce_divan da yargılandığı davayla ilgili görüşünü açıklayarak şu yanıtı verdi anayasa_mahkemesi yılmaz ın yüce_divan da yargılanmasında böyle bir durumu kaale almıştı yasa dışı elde edilen delillerin araştırılmasını kabul etmişti mahkemeye yurt dışından imzası olmayan sahte isimle bir mektup gelmişti mektupta mesut_yılmaz ın isviçre nin şu bankasındaki şu numaralı hesabında milyon doları var deniliyordu mahkeme bunu çok tartıştı imzasız mektup asla kabul edilemez denildi ama ortada milyon dolar gibi yüksek bir rakam vardı ya doğruysa hiç değilse soralım denildi ve isviçre deki bankaya soruldu banka ticari sırdır mudilerimizin hesabının sırrını veremeyiz dedi mahkeme ısrar etti ikinci kez devlet adına istedi gene vermediler mahkeme mesut_yılmaz hakkında devlet eski bakanı güneş taner le birlikte türkbank ihalesine fesat karıştırdıkları iddiasıyla yargılandıkları davada davanın kesin hükme bağlanmasını şartla salıverilme yasası uyarınca erteledi daha farklı karar çıkabilecekti adalı o belge delil olsaydı belki ceza alabilirdi sözlerine evet yanıtını verdi adalı eğer hakikaten isviçre den evet doğru bu kadar para var cevabı gelseydi herhalde mahkeme imzasız ve isimsiz diye onu reddetmeyecek ve kaale alacaktı mesut_yılmaz hakkında daha farklı bir karar çıkabilecekti dedi bu durumda yasa dışı elde edilen delillerin kabul edilebileceğini belirten adalı prensipte kabul edilmemesi lazım ama önemli bir bulguya ulaştıracaksa davanın seyrine tesir edecek bir belge şahitlik gibi bir şey ortaya koyacaksa diğer başka deliller de onu destekliyorsa kabul edilebilir diye konuştu coşkun ergül aa', ' disko lar kaldırılıyor başbakan_yardımcısı arınç disko diye tabir edilen disiplin koğuşlarının kaldırılacağını söyledi bakanlar_kurulu toplantısı sona erdi başbakan_recep_tayyip_erdoğan başkanlığında başbakanlık_merkez_bina daki toplantı yaklaşık saat sürdü toplantının ardından başbakan_yardımcısı ve hükümet sözcüsü bülent_arınç açıklama yaptı tsk disiplin kanunu nda değişiklik milli_savunma_bakanı_ismet_yılmaz ın da türk_silahlı_kuvvetleri tsk disiplin kanunu tasarısı adıyla bir sunum yaptığını ifade eden arınç maddeden oluşan tasarıyla tsk personeline uygulanacak disiplin hükümlerinin yeniden düzenlendiğini kaydetti bu tasarı ile tsk disiplin kanunu nda kamuoyunda zaman zaman tartışılan şikayetlere yol açan bazı konuların düzenlendiğine işaret eden arınç tasarı ile oda ve göz hapsi cezalarının kaldırıldığını disko diye tabir edilen disiplin koğuşları ve disiplin ceza ve tutukevlerinin kaldırılacağını anlattı disiplin mahkemeleri yerine disiplin kurullarının teşkil edilmesinin öngörüldüğünü daha önce yargı yolu kapalı bazı disiplin cezalarına yargı yolunun açıldığını belirten arınç tsk da görev yapan sivil memurların kapsam dışına çıkarılarak bunların sayılı devlet memurları kanuna tabi hale getirileceğini bildirdi arınç şahin ve yılmaz ın sunumlarını yaptığı tasarıların bakanlar_kurulu nda benimsenerek tbmm ye gönderilmesine karar verildiğini söyledi yargı paketi arınç adalet_bakanı_sadullah_ergin in de kamuoyunda yargı paketi olarak bilinen bazı_kanunlarda değişiklik yapan kanun tasarısı hakkında bilgi sunduğunu ifade etti tasarıyla ilgili genelde olumlu görüşler bildirildiğini ancak bazı maddelerinin tekrar ele alınması bu maddelerdeki düzenlemelerin kanunlardaki düzenlemelere paralel hale getirilmesinin uygun görüldüğünü kaydetti adalet_bakanlığı nın hazırladığı kanun tasarısının daha önce de bir kez bakanlar_kurulu nda görüşüldüğünü anımsatan arınç kanunda den fazla maddede değişiklik yapılmaktadır bunların bir kısmı avrupa_insan_hakları_mahkemesi nde bulunan davalarımız ve bu davaların nitelikleriyle ilgili gelişmeler üzerine yapılmıştır bir kısım maddeler tamamen teknik maddelerdir bir kısmı ise suçun unsurlarında ve ceza hadlerinde değişiklik yapılması amaçlanmaktadır henüz tasarı haline gelmemiştir önümüzdeki bakanlar_kurulu nda tekrar görüşülecektir dedi turgut_özal ın otopsisi arınç turgut_özal ın otopsisinde çeşit zehir bulunduğu iddiasına ilişkin bunların otopsi raporu sonucunda elde edilen bilgiler ve bulgular olduğu söylendi doğru da olabilir yanlış da olabilir henüz otopsi raporunun bizim tarafımızdan da sizler tarafından da bilinmesinin bilinmesinin mümkün olmadığını düşünüyorum ama doğru olan şudur otopsi raporunun verilmesinden sonra adli_tıp ın ihtisas dairesi nin bu rapora göre kesin kendi düşüncesini bildirmesi ve raporunu yazması gerekiyor bizim de sizin de mahkemelerin de yargının da dikkate alacağı tek şey ihtisas kurulu nun bu konu hakkındaki raporunu veya sonucunu hepimizin bildikten sonra olabileceğini söyleyebilirim hepimiz adli_tıp ın raporunu bekleyeceğiz kendi düşüncesinin sorulması üzerine arınç şahsi düşüncem zaten bu konuda söz konusu olamaz bu bir teknik konudur diye konuştu her olay arkasından gerekirse otopsinin yapıldığını ifade eden arınç şöyle konuştu ben zamanında da yapılmış olmasını doğrusu arzu ederdim bir cumhurbaşkanı vefat ediyor şu veya bu sebeple en azından bir klasik otopsi yapılmasında fayda olurdu bu düşüncemi daha önce de ifade etmiştim diye konuştu savcının lüzum gördüğü her adli vakada otopsi yaptığını belirten arınç eğer klasik otopsinin ötesinde de bazı şüpheler evhamlar iddialar olursa o zaman tam otopsi yapılabilir bir ceza avukatı olarak bunu bilgime dayanarak söylüyorum ama yıllar sonra iddialar ortaya atıldıkça ve devlet_denetleme_kurulu da bu konuda ciddi bir rapor verdikten sonra sayın_cumhurbaşkanımızın talimatıyla başlamıştı yargı harekete geçti fethi kabir yapıldı orada varlığı bilinen vücuda ait bir takım birikimler üzerinde otopsi yapıldı ve bunun raporu adli_tıp a sunulmak üzere hazırlandı diye biliyorum hepimiz adli_tıp ın raporunu bekleyeceğiz dedi patriot füzeleri arınç nato dan talep edilen patriot füzelerine ilişkin olarak yarın itibarıyla bu konuda türkiye ye teknik bir heyet gelecektir ve nerelere konuşlanabileceği adetlerinin ne olabileceği konusunda nato ya rapor vereceklerdir umarız kısa zamanda türkiye nin bu savunmasına katkı sağlamak amacıyla patriot füzelerinin nereye konuşlanacağı ve ne miktarda olacağı kesinlikle bizim de karar sürecinde olacağımız bir şekilde kabul edilmiş olacak dedi arınç türkiye nin nato dan talep ettiği patriot hava ve füze savunma sistemlerine ilişkin biz nato üyesi bir ülkeyiz nato nun bütünlüğü içerisinde yer alıyoruz sadece savunma amaçlı olarak bu füzelerin türkiye de konuşlanmasına ihtiyaç olduğunu düşünüyoruz dedi arınç bağdat merkezi hükümetiyle irak ın kuzeyindeki bölgesel yönetim arasında ihtilaf konuları var biz_türkiye olarak irak ın bütünlüğünü kabul etmiş bağdat hükümetiyle ilişkileri bulunan bir hükümet olarak bu sorunların kendi içlerinde diplomasi ve barış yoluyla çözülmesinden yanayız bu tartışmaların bu silahlı çatışmaların hiçbir zaman tarafı da olmayacağız ama kerkük teki yurttaşlarımızın soydaşlarımızın güvenliklerini hayat varlıklarını tehdit eden bir gelişme olursa türkiye irak hükümeti nezdinde de diğer otonom yönetim nezdinde de gerekli çabaları gösteriyor ve gösterecek dedi', ' erdoğan idamın bir haklılık sebebi var demek ki yeri geldiği zaman idamın bir haklılık sebebi de var kendimizi check etmemiz lazım endonezya nın bali kentinde düzenlenen bali_demokrasi_forumu nun demokratik küresel yönetişimin uluslararası barış ve güvenliğe katkısı konulu paneline konuşmacı olarak katılan başbakan_erdoğan açıklamalarının ardından katılımcı ülke temsilcilerinin sorularını yanıtlad başbakan_erdoğan birkaç yıl önce norveç te silahlı saldırıda kişiyi öldüren kişiye verilen yıllık hapis cezasını eleştirerek şu anda avrupa da idam kalktı ama amerika da kalktı mı japonya da kalktı mı çin de kalktı mı demek ki yeri geldiği zaman idamın bir haklılık sebebi de var dedi norveç teki saldırıyı gerçekleştiren ve yıl hapis cezasına çarptırılan kişinin yıl sonra hapisten çıkacak olmasına anlam veremediğini ifade eden başbakan_erdoğan şu değerlendirmelerde bulundu ben sordum merak ettim nasıl oluyor da insanı öldüren bir insan yıla mahkum oluyor bana verilen cevap şu hayır çıkmaz yıl sonra bir şey uydurulur tekrar yıl verilir ben buna nereden inanacağım bunu çözmemiz lazım şu anda avrupa da idam kalktı ama amerika da kalktı mı japonya da kalktı mı çin de kalktı mı demek ki yeri geldiği zaman idamın bir haklılık sebebi de var çünkü kişiyi öldüren bir insan eğer elini kolunu sallaya sallaya dolaşabiliyorsa o insanın ailesinin vicdanının gönlünün rahat olduğuna ben inanmıyorum kendimizi check etmemiz lazım kendimizi tekrar adalet terazisine iyice yatırmamız lazım yatırmamız lazım ki bu insanlık barışı huzuru bulabilsin', ' hüseyin_çelik bunu kim yaparsa pahalıya ödetiriz ak_parti genel_başkan_yardımcısı hüseyin_çelik chp lilerin gizlice ak_parti ye üye yapıldığı iddiaları konusunda kasten ve bilerek birisi bir başka partiden üye olan birisini bizim partiye sayı artsın diye üye yaptıysa biz o kişiye bu yaptığının hesabını sorarız ve ödetiriz dedi ak_parti genel_başkan_yardımcısı hüseyin_çelik parti genel merkezinde basın toplantısı düzenledi çelik türkiye ye nato tarafından yerleştirilecek patriot füzelerinde tetiğin türk tarafında olacağını söyledi patriot larda yetki ve iradenin nato da olacağını yerinin de türkiye ye gelecek uzmanlar tarafından belirleneceğini söyleyen çelik ama bunun tetiği bizde olacak bizim genelkurmayımızda askerimizde olacak dedi bu tür savunma sistemlerinde 15 saniye gibi kısa süre içerisinde karar verilmesi gerektiğinin altını çizen çelik dolayısıyla tetik bizde olacak nerede olması gerektiği ile ilgili de bu bir uzmanlık işidir stratejik açıdan hassasiyet gereken yerlerdir uzmanlar belirleyecektir tabii ki tsk siyasi iradenin emrindedir ama işin teknik boyutu onlar tarafından kararlaştırılacaktır diye ekledi çelik patriot larla ilgili bir soru üzerine verdiği cevapta bu nato nun türkiye ye ve nato nun kendisine sağlayacağı bir imkandır türkiye nin kendi savunmasının da güçlenmesi bu manada daha büyük bir özgüven içinde olması açısından son derece önemlidir burada garipsenecek bir şey yok diye konuştu balistik füzelerin ve balistik füzelere karşı savunma sistemlerinin pahalı olduğunu kaydeden hüseyin_çelik nato üzerinden türkiye ye bir imkan sağlanmış olmasını da çok önemli bulduklarını ifade etti kürecik in israil le ilgisi yok chp_genel_başkanı_kemal_kılıçdaroğlu nun kürecik teki radar üssü ile ilgili eleştirileri de sorulan ak_parti genel_başkan_yardımcısı çelik orada yine nato ya bağlı olarak erken uyarı radar sistemi kurulmuştur türkiye ye yönelik nato ya yönelik bir ülke nato ülkesi ise o ülkenin sınırları nato nun sınırlarıdır şeklinde konuştu hüseyin_çelik kürecik in israil le israil hükümetiyle yapılan bir anlaşmayla doğrudan veya dolaylı bir ilgisinin bulunmadığını da kaydetti çelik eğer bir nato ülkesiyseniz alınan kararların külfeti varsa katlanacaksınız nimeti varsa bu nimetten de faydalanmak durumundasınız diye ekledi chp nin ekseni iran ve suriye ye kilitlendi muhalefetin dış politikaya hakkında yönelttiği eksen kayması eleştirilerine de değinen ak_parti genel_başkan_yardımcısı çelik başbakan_erdoğan ın son zamanlarda yaptığı farklı ziyaretlerden örnekler verdi çelik chp nin kendi ekseni iran ve suriye ye kilitlendi bu nasıl bir eksendir ifadelerini kullandı erdoğan ın mısır ziyaretini de örnek vererek kahire üniversitesi nde kendisine yapılan tezahüratları anlatan çelik mısırlı gençlerin başbakan_erdoğan a gösterdikleri sevgi ve coşkunun türkiye deki ak_parti mitinglerinde bile yaşanmadığını dile getirdi çelik islam dünyasının önemli bir bölümünü diktatörler idare ediyor islam ülkeleri diktatörlerinden kurtulmaya çalışıyor arap_baharı bundan kurtulmak için bir fırsattır türkiye arap_baharı nın sonbahara dönüşmemesi için elinden geleni yapıyor bizim muhalefetten beklediğimiz yanlışlar varsa yanlışlara dikkat çekmeleri ama her meselede iktidarı zor duruma düşürmek isterken kendi ülkenizin elini zayıflatacak hamlelerde bulunmayın değerlendirmesinde bulundu başkanlik olmazsa olmazimiz değil çelik e yöneltilen bir başka soru ise başkanlık sistemi hakkında oldu çelik anayasa_komisyonu na sunulan teklifin kendileri için olmazsa olmaz bir madde olmadığını belirterek başkanlık olmazsa olmazımız değil diğer partiler kabul etmezse masadan kalkarız iddiamız yok kabul edilmediği zaman uzlaşma komisyonundan çekileceğiz şeklinde tavrımız olmadı olmayacak dedi yeni sistemle kontrol ve karşı kontrol mekanizmalarının olması önerildiğini söyleyen çelik şu an sayın cumhurbaşkanı yaptıklarından sorumlu değil bizim getirdiğimiz sistemde böyle olmayacak dedi üyelik sahtekarliği yapana bedelini ödetiriz chp ye üye çok sayıda kişinin ak_parti ye üye yapıldığına ilişkin iddialar da sorulan çelik doğruysa üzüntü vericidir ifadelerini kullandı geçmişte bunun çok istismar edildiğini aynı kişinin aynı anda birden çok partiye üye olarak bunu anahtar gibi kullandığı örneğini veren çelik üye kayıtları kimlik numarasıyla yapılıyor birisi kişinin toplu olarak kaydını yaptırırsa güvenlik soruşturması yapılamıyor bu siyasi ahlaksızlıktır geçmişte bu yaygındı bilgisayar devri olduğu için bugün böyle bir şey yapamazlar bir partiye üye olan diğer partiye üye olamaz silinir kasten ve bilerek birisi bir başka partiden üye olan birisini bizim partiye sayı artsın diye üye yaptıysa biz o kişiye bu yaptığının hesabını sorarız ve ödetiriz üye sahtekarlıkları bizi göre değil şeklinde konuştu hüseyin_çelik pkk ile ilgili görüşmelere ilişkin bir soru üzerine de dağlarda eli silahlı ölüm makinesi haline getirilen pkk lı gençlere sürekli çağrıda bulunduk yol doğru yol değil diye insan öldürmeyi bırakın siz de ölmeyin diye araştırmalar dağdakilerin ömürlerinin yıl olduğunu gösteriyor bu insanlar silahı bıraksınlar terörle değil medeni yollarla taleplerini dile getirsin diye konuştu bizim bağcıyla ilgimiz yok diye devam eden hüseyin_çelik habur iyi niyetli adımdı farklı noktaya çekildi yol kazasına dönüştürüldü türkiye de demokratik yollar açıktır şiddet kaba kuvvet terör artık çözüm aracı kendini ifade etme biçimi olamaz geçmişte birileri başka yolum kalmadı diyebilir ama bugün diyemez kan dursun gözyaşı dinsin kaynaklarımız heba olmasın kim etkili olacaksa olsun türkiye_cumhuriyeti hükümeti terörist başı ile oturup bunun üzerinden hesap yapmaz memurlar oturup görüşebilir birileri bunu pazarlık olarak değerlendirirse yanlış olur pazarlık içinde değiliz ifadelerini kullandı']\n",
            " \n",
            "-----------------\n",
            "GROUP DESCRIPTIVE KEYWORDS\n",
            " türkiye\n",
            " chp\n",
            " ın\n",
            " ak_parti\n",
            " dedi\n",
            " erdoğan\n",
            " kılıçdaroğlu\n",
            " milletvekili\n",
            " başbakan_erdoğan\n",
            " bdp\n",
            "-----------------\n",
            "DOCUMENTS GROUP 3\n",
            "[' örgütler ölümcül eylemlerde hasta ve yaşlıları kullanıyor istanbul_gaziosmanpaşa \\x92 da biri anne karnında iki çocuk babası polis memuru mücahit_daştan \\x92 ı şehit eden nurgül acar \\x92 ın kanser hastası olduğunun ortaya çıkması hasta ve yaşlı teröristleri baskıyla ölüme gönderen terör örgütlerinin çirkin yüzünü bir kez daha ortaya koydu son aylarda dhkp c tarafından gerçekleştirilen eylemlere katılan birçok militanın ölümcül hasta olması bu iddiaları güçlendirdi dhkp c \\x92 nin yanı sıra pkk da hastalanan teröristleri canlı bomba olmaya zorladığı istatistiklere yansıdı göğsünün biri alınmış hasta trabzon \\x92 da tayad eylemi sırasında linç edilmekten polis tarafından kurtarılan nurgül acar yıl sonra faturasını ödedikten sonra görev yerine dönen mücahit_daştan isimli polis memurunu şehit etti yenibosna polis merkezi \\x92 ne nabiha arıcı ile birlikte saldıran ancak polisin karşılık vermesi sonucu olay yerinden kaçan acar \\x92 ın örgütten gelen baskılar nedeniyle gördüğü ilk polise saldırdığı iddia ediliyor saldırının ardından gaziosmanpaşa ilçe emniyet_müdürlüğü ekipleri tarafından gözaltına alınan acar \\x92 ın yapılan muayenesinde kanser hastası olduğu ortaya çıktı göğsünün biri alınan acar \\x92 ın kanser hastası olması akıllara terör örgütlerinin canlı bomba eylemlerinde hasta ve hayattan beklentisi kalmayan teröristleri kullanmasını getirdi terör örgütlerinin ölüme gönderdiği hasta örgüt mensupları arasında taksim bombacısı da bulunuyor kimi kanser kimi beyin tümörü ibrahim çuhadar kanser tedavisi görüyordu sultangazi yıl polis merkezi amirliği \\x92 ne yapılan canlı bomba saldırısında polis memuru bülent özkan şehit oldu kişi de yaralandı saldırıyı dhkp c \\x92 li ibrahim çuhadar \\x92 ın gerçekleştirdiği tespit edildi terör örgütü üyesi olmaktan poliste kaydı olan çuhadar \\x92 ın kanser hastası olduğu belirlendi nurgül acar meme kanseri olduğu belirlenen nurgül acar \\x92 ın yenibosna yıl polis merkezine saldırırken yanında olan arkadaşı nabiha arıcı \\x92 nın da hasta olduğu belirlendi polisten kaçarken yakalanan arıcı \\x92 nın böbreklerinden ameliyat olduğu öğrenildi aynı eyleme katılan iki teröristin de hasta olması dikkat çekti sakin g \\x94 terörle_mücadele_şube_müdürlüğü tarafından eyüp ilçesinde yapılan operasyonda kilo amanyum nitrat ile yakalanan sakin g \\x92 nin depresyon ilaçları kullandığı tespit edildi eski dhkp c \\x92 li asuman akça \\x92 yı vuran selçuk a psikolojik sorunları nedeni ile askerlik görevini tamamlayamadığı öğrenildi servet gözmen \\x94 avcılar denizköşkler mahallesi reşitpaşa caddesinde para çeken polis memuru sabri yiğit \\x92 e silahlı saldırıda bulunan servet gözmen yakalandıktan sonra sağlık kontrolünden geçirildi gözmen \\x92 in vücudunda jilet izleri olduğu görüldü taksim bombacısı behçet hastası eylemlerde hastaları kullanan bir başka örgüt ise pkk taksim meydanında görev yapan çevik_kuvvet minibüsüne yönelik canlı bomba eylemi yapan pkk \\x92 lı terörist vedat acar \\x92 ın da behçet hastası olduğu ortaya çıkmıştı derveş şino kod adını kullanan acar \\x92 ın hastalığı iyice ilerlediği için örgüt kamplarında balık tutmak odun toplamak ve yemek yapmak gibi işleri yaptığı ortaya çıkmıştı hastalığı nedeni ile örgüt içinde \\x93 hasta vanlı \\x94 olarak çağrılan vedat acar bu nedenle canlı bomba eylemine gönderildiği iddia ediliyor kartepe feribotunu mürettebat ve yolcusu ile birlikte kaçırılan ve yapılan operasyonda ölü ele geçirilen mensur güzel \\x92 inde hasta olduğu ortaya çıkmıştı ölü ele geçirildikten sonra otopsisi yapılan güzel \\x92 in beyninde ur çıkmıştı hasta militan infaz edilmişti terör örgütleri hastaları kendileri yük olarak görüyor istenilen eylemi yapmayan hasta teröristler bir anda ortadan kayboluyor tedavi için hastaneye gönderildiği açıklanan teröristin aslında infaz edildiğini ise tüm örgüt biliyor geçtiğimiz aylarda örgütten kaçarak güvenlik güçlerine teslim olan e b verdiği ifadede hasta teröristlerin öldürüldüğünü söylemişti terör örgütlerinin canlı bomba eylemlerinde ve güvenlik güçlerine yönelik saldırılarda hasta teröristleri kullanması istihbarat raporlarını da yansıdı örgütlerin hayattan beklentisi kalmamış sabıkalı ve hasta teröristleri eylemlerde kullanılması için talimat verdiği belirtiliyor', ' protokole öncelikli muayene torpili ! çukurova_üniversitesi tıp_fakültesi hastanesi anayasa \\x92 yı ihlal ederek adana protokolü \\x92 ne muayene önceliği tanıdı protokol ve aileler \\x93 acil hamile engelli yaşlı ve çocuklar \\x94 dan önce muayene edilecek çukurova üniversitesi tıp_fakültesi balcalı_hastanesi inanılmaz bir skandala imza atarak ilk muayene edilecekler protokolü hazırladı çukurova_üniversitesi rektörü_prof dr mustafa kibar sağlık_bakanlığı nın acil vakalar ağır engelli raporu bulunan engelliler hamileler yaş üstü yaşlılar yaşından küçük çocuklar ve harp ve vazife şehitlerinin dul yetimleri ile malül ve gaziler olarak belirlediği öncelikli muayene olacaklar listesine alternatif bir protokol listesi oluşturdu kibar öncelikli muayene olacaklar listesini adalet_bakanlığı adana valiliği öğretim üyeleri ncı mekanize piyade tümen ve garnizon komutanlığı görevlileri ile yakınları şeklinde düzenledi kibar kendi oluşturduğu muayene öncelik protokolü için bir de irtibat bürosu kurdu rektör kibar bu düzenlemeleri resmi birer yazıyla ilgili kurumlara iletti kibar yazısında bu kişilere hastanede beklerken irtibat bürosunda hizmet verileceğini duyurdu türkiye de bir ilki başlattık ! skandalın ortaya çıkması üzerine çukurova_üniversitesi tıp_fakültesi balcalı_hastanesi başhekim prof dr yeşim taşova irtibat bürosunun amacının çok önemli işlerde bulunan kişilerin zamandan tasarruf etmesi olduğunu savundu taşova önemli kişilerin muayane ve tetkik işlerini halledip iş kaybı olmaksızın işlerinin başına dönmelerini hedeflediklerini anlatarak şunları söyledi bunun için irtibat bürosu hazırladık ayrımcılık değil bizim buradaki hedefimiz açıkçası bu çalışanların birinci derece yakınları ve kendileridir bu çalışanlarımız hastanemize geldikleri zaman oldukça önemli vakitlerini burada geçiriyorlar hem onların işleri hızlıca halletmek hem de oradaki vatandaşlarımızın işlerini kolaylaştırmayı amaçladık türkiye de bu uygulama bir ilk felçli çocuğa ay sonrasına randevu hastane yönetimi öncelikliler protokolü nü savunurken doğuştan bağırsak felci olan yaşındaki oğlunu tedavi ettirmek için mücadele eden ihsan demirkol balcalı_hastanesi nde kendilerine ay sonrasına randevu verildiğini söyledi demirkol ay sonra randevuya gelip muayene olabildik benim oğlumun hastanede yatmasına karar verdiler ancak yer olmadığı için ay sonra yatabildi ancak bu önemli kişileri ve yakınlarını hemen muayene ediyorlarmış bu ayrımcılıktır diye konuştu bu ayrimcilik anayasa ya aykiri avukat kerem aydın balcalı_hastanesi nde hayata geçirilen uygulamanın yasaya aykırı olduğunu belirterek şunları söyledi bununla ilgili eylül tarihinde halk oylamasına sunularak kabul edilen sayılı türkiye_cumhuriyeti anayasası nın bazı maddelerinde değişiklik yapmasına dair kanun hükümleriyle anayasanın maddesine eklenen fıkralarda yer alan kadınlar ve erkekler eşit haklara sahiptir devlet bu eşitliği yaşama geçirmekle hükümlüdür bu nedenle alınacak tedbirler eşitlik ilkesine aykırı olarak yorumlanamaz çukurova_üniversitesi nin belirlemiş olduğu adana valiliği subaylar yargı mensupları ve il müdürleri herhangi bir kanun önünde öncelikli olarak hastane hizmetlerinden yararlanma gibi birşey söz konusu değildir bu zaten anayasanın maddesi olan eşitlik ilkesine aykırı bununla ilgili olarak ekim tarihinde sağlık_bakanlığı genelge göndermiştir bu yapılan uygulama yanlıştır bundan biran önce dönülmesinde fayda vardır bu durumunu son bulması için gerekli yerlere başvuru yapacağız kaldı ki çukurova_üniversitesi nin çok sayıda yolsuzluk mahkemeleri adliyede devam etmektedir bu etik olarak da doğru değildir', ' unakıtan ameliyat oldu böbrek yetmezliği tedavisi sırasında prostatta tümör tespit edilen eski maliye bakanlarından kemal_unakıtan ın ameliyatı tamamlandı memorial_şişli_hastanesi nde saat 00 sıralarında başlayan ameliyatı üroloji uzmanı prof dr mevlana derya balbay yaptı unakıtan yaklaşık saat süren ameliyatın ardından yoğun bakım ünitesine alındı prof dr balbay aa muhabirine yaptığı açıklamada unakıtan ın yaklaşık 00 sıralarında ameliyattan çıktığını belirterek çok başarılı bir operasyon gerçekleştirdik herhangi bir olumsuz durum oluşmadı hastanın durumu iyi dedi unakıtan ın daha önce kalp ameliyatı geçirmesi ve böbrek yetmezliği nedeniyle ameliyattan sonra yoğun bakım ünitesine alındığını belirten balbay ameliyat çok başarılı geçti 3 gün içinde taburcu edilebilir ifadesini kullandı kemal_unakıtan ın ameliyata girerken moralinin yüksek olduğunu anlatan prof dr balbay sohbet ettik şakalaştık zaten çok esprili biri diye konuştu böbrek nakli hazırlıkları yapılırken tedavi gördüğü hastanedeki doktorların prostat içine yerleşen hiçbir yere sıçramamış bir tümör tespit etmesi üzerine kemal_unakıtan memorial_şişli_hastanesi nde bugün ameliyata alınmıştı aa', ' sahte doktor yine sahnede netekim ! kendisini amerika colombia üniversitesi \\x92 nden mezun beyin cerrahı olarak tanıtan sahte prof dr ali naci uygungider gözaltına alındı \\x92 de cumhurbaşkanı kenan_evren \\x92 in şüphesiyle uygungider \\x92 in sahte doktor olduğu ortaya çıkmıştı uygungider ile yine aynı otelde ruhsatsız olarak tedavi yaptığı iddia edilen birlikte yaşadığı m ö \\x92 nün tedavi için yanlarına gelen kişileri otelde konaklamak zorunda bıraktıkları ve günlük lira ücret aldıkları belirlendi pakistan \\x92 da öğrendiği \\x91 şiyatsu \\x92 tekniğiyle tedavi yaptığını ileri süren uygungider bursa \\x92 da karanfilli hoca diye tanınıyor para yerine mücevher saat ve lüks araba kabul eden sahte doktora süleyman nazmiye demirel rauf_denktaş komutanlar işadamları nail keçili cavit çağlar ve besim tibuk \\x92 un da gittiği öğrenildi', ' canlı bomba dedektörü gebze yüksek teknoloji enstitüsü tübitak ve nato desteğiyle canlı bombaları uzaktan belirleyecek dedektör geliştirdi diğer yöntemlerin maddenin sadece şeklini belirlediğini anlatan uzmanlar \\x91 çekirdek nqr \\x92 ün ise maddenin türünü gösterdiğini söyledi teröristlerin intihar silahini etkisiz hale getirecek buluş tübitak ve nato desteğiyle gebze yüksek teknoloji enstitüsü nde gyte geliştirilen dedektör sayesinde vücutta gizlenen patlayıcı maddelerin uzaktan tespit edilebilmesi sağlanacak gyte fizik bölümü başkanı_prof dr bekir aktaş malzemelerin kimyasal özelliklerini uzaktan tespit etmek için ekibiyle birlikte kuadrupol rezonans tekniği nqr kullanarak tasarlayıp geliştirdikleri dedektör sayesinde vücuda gizlenen maddelerin rahatlıkla belirlenebileceğini söyledi prof dr aktaş teknoloji teröre çare ararken teröristlerin de teknik araştırmaları kullanarak karşı atakta bulunduklarına dikkati çekerek şunları söyledi farklı patlayıcıları belirledik patlayıcılar insanların cebinde vücudunun içinde bagajlarda ya da arabalarda taşınıyor bazen mayın olarak bir yerlere döşeniyor ve teröristler hasar verecek şekilde atak yapıyor onlara karşı karşı tedbirler gerekiyor biz bunlar arasında özellikle vücutta saklanmaya çalışılan bazı patlayıcıların tespiti için bazı yöntemler araştırdık aktaş çalışma kapsamında değişik patlayıcıların tespitini yaptıklarını ancak işin daha başlangıç aşamasında olduklarını belirterek cihaz pratik bir cihaz haline getirilmiş değil biz olayın bilimsel temellerini araştırdık sensörün temel elemanını geliştirdik yaptık ve vücutta cepte saklanabilecek uyuşturucu patlayıcı gibi tüm maddelerin tespit edilebileceğini gösterdik ifadelerini kullandı maddenin parmak izini okuyor aktaş diğer tekniklerin bir maddenin geometrik şekli dışında pek bir bilgi vermediğini anlatarak maddenin içeriği konusunda fazla bir şey söylemez nqr tekniği spektroskopik bir teknik olduğu için algıladığı maddenin ne tür bir malzeme olduğunu söyler çünkü o maddenin verdiği sinyal o maddenin parmak izi gibidir sadece madde var mı yok mu demiyor hangi tür madde olduğunu da söylüyor']\n",
            " \n",
            "-----------------\n",
            "GROUP DESCRIPTIVE KEYWORDS\n",
            " dr\n",
            " kalp\n",
            " tedavi\n",
            " prof\n",
            " organ\n",
            " ilaç\n",
            " sağlık\n",
            " diş\n",
            " göz\n",
            " sigara\n",
            "-----------------\n",
            "DOCUMENTS GROUP 4\n",
            "[' yapımcıya sahtekarlıktan yıl hapis cezası peygamber_efendimiz e ve islam a hakaret içeren müslümanların_masumiyeti adlı filmin yapımcısı mark basseley youssef sahtecilik yapmaktan bir yıl hapis cezasına çarptırıldı hakkındaki iddianın ünü kabul eden youssef e hakaret filmiyle ilgili hiçbir cezanın verilmemesi dikkat çekti abd nin kaliforniya eyaletinde görülen mahkemede hakim christina snyder youssef i aralarında sahte ehliyet dahil çeşitli konulardan suçlu buldu ve cezalandırılmasına karar verdi youssef daha önce filmin yapımı için lojistik destek sağladığını kabul etmesine rağmen bu konuda hiçbir ceza almadı yıl ile yargılanan youssef geçtiğimiz eylül ayında filmin ortaya çıkmasından bir hafta sonra yakalanmıştı hakaret filminin ortaya çıkmasından sonra ortadoğuda birçok ülkede film karşıtı gösteriler yapılmıştı film sebebiyle libya nın başkenti bingazi de abd büyükelçiliğine yapılan saldırıda aralarında büyükelçinin de bulunduğu amerikalı personel hayatını kaybetmişti cihan', ' son dansöz mısır ı karıştırdı mısır da geçen hafta vizyona giren ve büyük ilgi gören bir film tepkiler üzerine sansüre uğradı abdu muta adlı filmde ünlü dansöz dina talat seyid muhammed hz muhammed in kızı ve hz ali nin eşi hz fatıma ile ilgili bir şarkı eşliğinde gerdan kırıyor şarkının sözleri aslında hz fatıma yı hasan ve hüseyin in faziletli annesi diye övüyor ancak el sabah gazetesinin haberine göre ülkedeki şiilerin sözcüsü baha enver muhammed islam a hakaret ettiğini savundukları filmin yasaklanması için başsavcılığa kınayıcı bir fetva çıkarması için ise el ezher e başvurdu sanata uygun sansür newsweek dergisinin mısır ın son dansözü diye nitelediği felsefe alanında yüksek lisans sahibi dina filmdeki dansının hakaret olmadığını savundu ancak kültür_bakanlığı sansür kararı aldı sansür yönetmeni abdülsetta fethi filmi izleyip şarkının olduğu bölümün sanata uygun biçimde kesilmesi için bir rapor hazırlayacak bakanlık sansür talebinin filmin yapımcısı ahmed el subki den geldiğini öne sürdü kurban_bayramı nın ilk gününde vizyona giren film gişede bir günde 5 milyon mısır lirası bin lira gelir elde ederek rekor kırmıştı milyon nüfuslu ülkede halkın yüzde inden azı şii', ' sinemaya milyon bin dolar destek kültür ve turizm_bakanlığı sinema sektörüne son yılda milyon bin dolar maddi destek sağladı bakanlıktan yapılan yazılı açıklamada türk sinemasının son yılda birçok alanda rekor kırdığı ifade edildi yerli film izleyicisi sayısı de milyonken de milyona toplamda izleyici sayısı ise 5 milyondan 5 milyona çıktığı vurgulandı de türk filminin izleyiciyle buluştuğu vizyona giren yerli film sayısının de i de ı bulduğu belirtilen açıklamada şu ifadeler yer aldı yılında yerli filmlerin elde ettiği hasılat milyon lira de bu değer milyon liradır sinema sektörüne verilen destek 2004 yılları arasında toplam milyon bin dolar 2012 yılları arasında ise milyon bin dolardır ayrıca bu yıl uzun metrajlı filme belgesel film yapım senaryo ve diyalog yazım ve geliştirme kısa film ve animasyon film yapım projesine de destek verildiği kaydedildi aa', ' hollywood \\x92 a rakip stüdyo kuruluyor mars_entertainment_group sinema salonlarından sonra film yapımcılığına soyundu mars ceo \\x92 su muzaffer_yıldırım yılda 10 film yapacaklarını belirterek \\x93 ayrıca warner bros gibi dev bir stüdyo kuruyoruz hollywood ile rekabet edebilecek ! milyon dolarlık dev bir film fonu da kurduk \\x94 dedi sinema spor spa restorancılık gibi alanlarda faaliyet gösteren mars_entertainment_group \\x92 un ceo \\x92 su muzaffer_yıldırım mutluluk sanayinde çalıştıklarını belirterek bu sanayideki performanslarının amerikalı colony capital actera group ve esas_holding gibi devleri de yatırımcı olarak çektiğini belirtti \\x93 işimiz eğlence biz de yaparken eğleniyoruz aslında herkes perdenin önünü görüyor ama arkasında çok büyük bir üretim var \\x94 diyen yıldırım eğlence endüstrisindeki dev yatırımlarını anlattı bir film stüdyosu mu kuruyorsunuz evet böyle bir plan var warner bross gibi onu örnek aldığımız çok büyük bir stüdyo kuracağız ismi \\x91 filmmall \\x92 aynı zamanda milyon dolarlık dev bir film fonu kuruyoruz asla küçük düşünmüyorum nasıl yürüyecek bu bağımsızlara yönetmenlere açık hollywood bollywood tarzı bir yapı senaryo ofis vs bulunacak daha sonra dev platolar kurmayı planlıyoruz hiç küçük düşünmüyorum ! asla küçük düşünmüyorum ! yılda 10 iyi film yapmayı planlıyoruz türk sinemasını komple değiştirecek bir proje bu film yapımcılığına da başladınız ciddi ciddi sinema yapımcılığına girdik yılda 5 film yapmak istiyoruz kasım \\x92 da vizyona giren \\x91 dağ \\x92 bunun örneklerinden biri kasım \\x92 da vizyona girecek eve_dönüş filminin de yapımcısı biziz ciro filmden geliyor sinema sektörü nasıl gidiyor peki örneğin türk dizilerin gösterdiği başarı sinema için söz konusu değil türkiye \\x92 de yılda milyon sinema bileti satılıyor bunu milyona çıkarmayı hedefliyoruz bunun için içerik lazım bu da filmdir onu da üretmek gerek ! eğer iyi bir ürün yaparsanız türkiye \\x92 de de yurtdışında da satarsınız türkiye \\x92 de yılda 70 film çekiliyor fakat cironun yüzde \\x92 ı tane filmden geliyor geri kalan filmler ise cirodaki yüzde \\x92 luk kısmı paylaşıyor çok kalitesiz prodüksiyonlar var sanat filmi de tüketiciye ulaşmalı bu iş festival filmleri ve box office diye ikiye ayrılır en büyük eksik senaryo filmin matematiği o çok iyi yönetmenler var ama senaryoda sıkıntılıyız amerika \\x92 da yılda bin kadar senaryo tescilleniyor başka yeni yatırım planlarınız var mı her yıl filmler hariç milyon dolar yatırım yapıyoruz yataklı restoran açtı yataklı bir restoran açtınız karaköy \\x92 de nedir o tam olarak numnum \\x92 lardan başka alanlara yatırım yapmak için çıktık o hatalı bir karardı bugün olsa çıkmazdık ama en azından mehmet gürs \\x92 te kalması bizi mutlu etti şimdi iki ortak yeme içme alanını yeniden yapılandırıyoruz hem cool hem de kitlesel restoranlar açacağız nu pera ve backyard gibi mekanların ardından karaköy \\x92 de yeni bir yer açtık unter diye süitli yataklı bir restoran çatıda bir suit var bazen bir yeri kapatıp eğlenmek istersiniz ya da gecenin sonunda eve dönmek zor gelir işte o gibi durumlar için ya da restorana gitmeden süitte yemek için hazırlanabilirsiniz istanbul gece hayatını şaşırtacak bir iki konseptimiz daha var spor kültürümüz komik durumda sor yapma alışkanlığının olmadığı bir toplumda salonlar açıyorsunuz zor değil mi türkiye \\x92 de spor yapma kültürü komik durumda son dönemde sağlığa katkısı medyada çok vurgulanınca bir miktar ilgi arttı istanbul \\x92 da büyük spor kulübü taneyi geçmez mahalle aralarında da ancak tane kadar vardır new_york \\x92 ta spor salonu var almanya da bu konuda çok ileri spor bir disiplin işi o bize zor geliyor bizde yok maalesef çabuk sıkılıyoruz her pazartesi diyete her hafta sonu spora başlarız ama devamı gelmez yılda kez spor yapan bırakamaz dört evlilik yapan tek firmayız pek çok ortak yabancı yatırım aldınız bugüne kadar tane evlilik yapan tek firmayız aslında evlilik ama biri iki fonla sinemada şu anda salon üstündeyiz ve \\x92 te salona ulaşacağız spor salonları zinciri mac \\x92 tan şu anda tane var ama \\x92 te bu sayı \\x92 a çıkacak ocak ayına kadar tane daha açacağız hizmet kalitesi aynı olan ancak daha az servis sunan macfit daha küçük bütçelerin ulaşabildiği bir salon olacak bu konsepti açmak da daha kolay olacak menderes tedavi edecek ortağınız menderes utku amerika \\x92 ya mı yerleşti menderes new_york \\x92 ta psikoloji masterı yapıyor yılarca beni delirtti şimdi okumaya gitti dönüp herhalde beni tedavi edecek amerika \\x92 da işletme okumuş adam birden psikolojiye merak sardı şaka bir yana buna çok merak sardı ve yapıyor olmasından ben de çok memnunum', ' \\x91 sen misin ulan hz ömer \\x92 i hançerleyen !\\x92 beyazperde de kötü adam ı canlandırmak yeteneğin yanı sıra yürek de istiyor filmin esas oğlanına akla gelmedik eziyetler yapan esas kızın dünyasını karartıp hiç acımadan onlarca insanı öldüren kötü adam ların sinema kariyerinde ödül almak kadar yuhalanmak hatta taş yağmuruna tutulmak da bazen söz konusu olabiliyor tamamen bir kurmaca ya da hayal ürünü olan filmlerdeki kötü karakterlerin gerçekmiş gibi algılanması sinema oyuncularını yer yer zor durumlarda bırakabiliyor gerçek hayatlarında yufka yürekli ve yardımsever olarak bilinen sanatçılar hafızalarda ise oynadıkları rollerle özdeşleştiriliyor sanatçıların biyografileri ve söyleşilerinden derlenen bilgilere göre yeşilçam da beş yüzün üzerinde filmde rol alan süheyl eğriboz yapımı hz ömer in adaleti filminde hz ömer karakterini namaz kılarken öldüren kişiyi oynuyordu filmin gösterimi sırasında düzce de bulunan eğriboz un önünü kesen dört kişi ulan hazreti ömer i öldürürsün haaa diyerek odun parçalarıyla sanatçının üzerine çullanır hastanede gözünü açan eğriboz un kafasına18 dikiş atılır çoğu filmde baş kadın karakterlerin korkulu rüyası olan eğriboz un uzun süre hanımıyla sokağa çıkamadığı da emektar sanatçının talihsiz anıları arasında eğriboz un neden diye sorduklarında sokakta insanlar bak ! gene düşürmüş bir kadını götürüyor diye karşılık verdiği söylenir bilal inci küfür yağmuru altinda galayi terk etti türk sinemasında kötü adam rollerini başarıyla canlandıran bilal inci eşiyle katıldığı bir filminin galasında canlandırdığı karakter sebebiyle küfür ve aleyhte tezahüratlara hedef olunca salonu terk etmek zorunda kalır kıbrıs barış harekâtı nın yapıldığı de çekilen önce vatan adlı filmde fatma_girik i kaçırıp saldıran türklere işkence yapan kiliselere kadınları sokup iğfal eden eoka kumandanını oynayan karakter oyuncusu ihsan gedik film yazlık sinemalarda gösterime girdiğinde neredeyse sokağa çıkamaz hale gelir yolda yürürken arkasından dur diye bağıran yaşlı bir kadın gedik in ne oldu abla sorusuna sert bir ses tonuyla sen akşamüstü fatma_girik e saldırdın deyince gedik filmdeki gibi kötü bir insan olmadığını anlatabilmek için saatlerce dil döker kurtlar vadisi nde teröristi oynadi dayak yedi kurtlar_vadisi pusu dizisinde terörist rıza karakterini canlandıran oyuncu arif öngen terörist rolü oynadığı için istanbul da tekme tokat dövülür diziyi gerçek zanneden saldırganlar pis terörist dedikleri öngen i feci şekilde dövdükten sonra sırra kadem basar kısa süren kurtlar_vadisi terör isimli dizide polat_alemdar karakterine silah çeken terör örgütü üyesini canlandıran tiyatro oyuncusu eda özdemir de bir süre sokaklarda halkın sert bakışlarına katlanmak zorunda kalır bindiği taksiden kovulur yılmaz_güney in yapımı ince cumali filminde köylüleri hayvanlarına varıncaya kadar zalimce öldüren köy ağası ali ağa yı oynayan erol_taş filmin doğuda bir ilde yapılan galasında sahneye çıktığında ortalık birden karışır yuuh seslerini sahneye atılan taş ve şişeler izler aralarından taş ı yumruklayanlar olur ünlü karakter oyuncusu kan revan içinde sahneye çıkarak atın atın bana çiçek ekmek atıyorsunuz deyince kargaşa birden durulur öfke yerini kahkahaya ve alkışa bırakır bir başka filminde bir rus generalini oynayan oyuncunun cankurtaran semtinde işlettiği kahvehanesi seni gidi rus tohumu diyerek taşlanır köylüler esas kalleş bu diyerek erol taş i dövdü yüzlerce filmde oynayan erol_taş ın başına gelenler bunlarla sınırlı değil mersin de çekilen bir filmin verilen molasında durun yapmayın ben kötü adam değilim diyerek kan ter içinde koşan bir adamın sesi ortalığa yayılır yaklaşık kişinin vay kalleş demek öyle yaparsın hee diyerek ellerindeki odunlarla kovaladıkları kişi erol_taş tan başkası değildir taş ı kurtarmaya gelen bir başka karakter oyuncusu çetin başaran olunca öfkeli grup bu kez başaran ın üzerine çullanır saldırganlardan birinin durun ulan bu az kalleş esas kalleş aha bu diye erol_taş ı göstermesiyle ünlü oyuncu yine darbelerin hedefi olur jandarmanın kurtardığı erol_taş şikâyetçi misin sorusuna hayır şikâyetçi değilim onlar beni seviyorlar benim hayranlarım şeklinde karşılık verir tarzan çetin i beyazperdede vurdular ! türk_sineması nın tarzan çetin lakaplı karakter oyuncusu çetin başaran yılmaz_güney in kayıp filmleri arasında gösterilen yabancı düşman isimli filmde başroldeki güney in annesini oynayan aliye rona ya tarlada tecavüz edip öldüren kötü adamı oynar filmin adana da yapılan gala gösteriminde tecavüz sahnesi perdede oynadığında birden el silah sesi duyulur makinist ışıkları yaktığında beyaz perdede kurşun deliği görülür perdedeki görüntüsüne ateş edildiğini görünce şoka giren oyuncun imdadına yılmaz_güney yetişir ve adana şivesiyle ağam şöyle geri gel bu seni görmesin buraya da ateş eder diyerek başaran ı locadan çıkarır çağri filminde vahşi yi oynadi kimse iş vermedi anadolu uygarlıklarını anlatan bir belgesel çekimi için kayseri kalesine bizans bayrağı asılması tepkilere sebep olur seti basan grup haçlı bayrağı asamazsınız diyerek çekim ekibini engeller yönetmen mustafa akkad ın ın islamiyet in doğuşunu anlatan yapımı çağrı the message filminde hz hamza karakterini mızrakla öldüren vahşi yi canlandıran oyuncu salemgedera uzun süre ülkesinde iş bulamaz sen nasıl hz hamza yı öldürürsün denilerek gittiği çoğu mekândan kovulur ölüm tehditleri alır çağrı gedera nın oynadığı son film olur kirli harry nin seri katili ölüm tehditleri aldi ünlü aktör clinteastwood un başrolde göründüğü ve gişede büyük iş yapan yapımı kirli harry dirty harry filminde seri katil scorpio yu canlandıran andrew robinson un başına da gelmedik kalmaz film gösterime girdikten sonra ölümtehditleri alan aktör evini telefon numarasını değiştirir ve telefon idaresinden gizli numara almak zorunda kalır televizyon tarihinin efsane dizisi dallas ın kötü adamı j r karakterini başarıyla canlandıran larryhagman kariyeri boyunca çok sayıda dizi ve filmde rol almasına karşın j r rolüyle adeta özdeşleşir öyle ki geçtiğimiz günlerde ölen sanatçının gerçek hayatında da j r gibi bir karaktere olduğuna dair amerikan kamuoyunda yaygın bir inanç olduğu haberlere yansır robert redford u kaldiği otelde kaçiracaklardi rolleri sebebiyle sosyal hayatlarında tehditlere maruz kalan sadece kötü adamlar değil elbet watergate skandalını konu alan yapımı başkanın bütün adamları allthepresident s men filminde skandalı ortaya çıkaran gazeteci bobwoodward karakterini canlandıran ünlü aktör robert redford başkan nixon ı seven muhafazakârların tepkisini çeker redford filmin tanıtımı için fransa ya gittiğinde fransız polisi ülkede güçlü olan bir muhafazakâr grubun ünlü sanatçıyı kaldığı otelden kaçırmayı planladığını gün yüzüne çıkarır']\n",
            " \n",
            "-----------------\n",
            "GROUP DESCRIPTIVE KEYWORDS\n",
            " film\n",
            " filmi\n",
            " sinema\n",
            " filmin\n",
            " nokia\n",
            " yönetmen\n",
            " oscar\n",
            " festivali\n",
            " ödül\n",
            " hobbit\n",
            "-----------------\n",
            "DOCUMENTS GROUP 5\n",
            "[' kılıçdaroğlu galatasaray ı kutladı chp_genel_başkanı_kemal_kılıçdaroğlu uefa şampiyonlar_ligi h grubu nda cfr_cluj u deplasmanda 1 yenen galatasaray ı kutladı ve başarılarının devamını diledi kılıçdaroğlu yayımladığı mesajda şampiyonlar ligi h grubu nda bugüne kadar spor kamuoyunun kendisinden beklediği başarıyı yakalayamayan ve alması gereken puanları alamayan galatasaray bu kez güzel futboluyla şanssızlıkları da yendi dedi cfr_cluj u birbirinden güzel üç golle yenen galatasaray ın puanı alarak ben de varım dediğini ifade eden kılıçdaroğlu bu başarıda büyük payı olan galatasaraylı futbolcuları teknik direktör fatih_terim i galatasaray başkanı ünal_aysal ve yönetici arkadaşlarını her maça adam olarak çıkan galatasaray ın fedakar coşkulu seyircisini galatasaray ailesini ve spor camiasını kutluyor cim_bom un başarılarının devamını diliyorum dedi anka', ' milyon euro için büyük savaş şampiyonlar_ligi \\x92 nde avrupa \\x92 nın en değerli takımı arasına kalmayı başaran galatasaray 4 milyon euro \\x92 yu kasasına koydu takım şimdi milyon euroluk gelir için mücadele edecek bu sezon şampiyonlar ligi \\x92 nden 4 milyon euro \\x92 ya yakın para kazanan galatasaray avrupa \\x92 nın en değerli takımı arasına kalmayı başardı 4 milyar euroluk futbolcu değerine sahip takım şimdi milyon euroluk gelir için kapışacak kupayı kaldıran kulüp kasasını doldururken finale ev sahipliği yapacak ingiltere \\x92 nin londra şehri de önemli bir gelir elde edecek uefa zam yapti uefa \\x92 nın sezon başında şampiyonlar_ligi \\x92 nde mücadele eden takımlara verdiği paraya zam yapması kulüplerin gelirlerini de arttırdı bir önceki sezon milyon euro dağıtan uefa bu sezon takım için 3 milyar euro kaynak ayırdı bu paranın önemli bir kısmını havuz parası olarak ödeyen uefa şampiyonlar_ligi finali için de milyon euro ayırdı kupayı kaldıran takım 5 milyon euro ödül parası alacak \\x92 nci takım ise 5 milyon euro kazanacak \\x92 nci olan da kazaniyor şampiyonlar_ligi sponsorlarının yaptırdığı araştırmalara göre kupayı kazanan takım uefa katılım payı uefa başarı primi uefa \\x92 nın ticari hasılatından alınan paylar bilet satışları sponsorluklar ile lisanslı ürün satışlarıyla toplam milyon euro \\x92 luk gelir elde ediyor şampiyonlar_ligi \\x92 nde \\x92 nci olan takımın gelirleri de milyon euroyu buluyor değeri milyon euro portekiz temsilcisi brağa \\x92 yı yenerek şampiyonlar_ligi \\x92 nde ilk arasına kalan galatasaray bir üst tura çıkması halinde uefa \\x92 dan 9 milyon euro daha kazanacak galatasaray milyon euro \\x92 luk değeriyle takım arasında \\x92 üncü sırada yer alıyor', ' florya \\x92 da dev derbi fenerbahçe ve galatasaray istanbul fenerbahçe burnu \\x92 ndan sonra şimdi de yıllığına florya \\x92 da komşu olmaya hazırlanıyor galatasaray \\x92 ın florya \\x92 daki tesislerine yakın mesafedeki semt pazarının kurulduğu yeri fenerbahçe spor salonu yapmak istiyor türk futbolunun ezeli rakibi fenerbahçe ile galatasaray fenerbahçe burnu \\x92 ndan sonra şimdi de yıllığına florya \\x92 da komşu olmaya hazırlanıyor şimdiye kadar bütün tesislerini anadolu_yakası \\x92 nda inşa eden fenerbahçe_spor_kulübü galatasaray \\x92 a komşu olabilmek için istanbul_büyükşehir_belediyesi \\x92 nden izin istedi mayıs tarihli dilekçeyle galatasaray \\x92 ın florya \\x92 daki tesislerine yakın mesafedeki cumartesi günleri semt pazarının kurulduğu yeri spor salonu yapmak istediğini belirten fenerbahçe \\x92 nin talebine ilişkin rapor istanbul_büyükşehir_belediye_meclisi \\x92 nin bu haftaki oturumunda görüşüldü spor kompleksi olacak fenerbahçe_spor_kulübü milli_emlak genel_müdürlüğü \\x92 ne başvurarak bakırköy şenlik mahallesi ada parsel üzerindeki araziyi yıllığına kiralamak için başvurdu fenerbahçe şenlik mahallesi \\x92 nde mevcut planlarda \\x93 oyun alanları \\x94 olarak belirlenen \\x93 spor salonu \\x94 olarak değiştirilmesini istedi metrekarelik arazide spor salonu yaptırmak isteyen kulüp olimpik ölçülerde kapalı ve açık yüzme havuzu ile birlikte açık tenis kortları açık basketbol ve voleybol sahalarının bir arada bulunacağı kompleks inşa ettirmeyi planladı milli emlak \\x91 olur \\x92 dedi milli_emlak genel_müdürlüğü söz konusu taşınmazın kanun hükme gereği \\x93 ticari amaçla kullanılmaması üçüncü kişilere ticari ya da gayri ticari amaçla kullandırılmaması devredilmemesi \\x94 gerektiğine işaret etti ancak ticari amaçla kullanımının söz konusu olabileceği ünitelere zorunla olarak ihtiyaç duyulması halinde ise hazine taşınmazlarının idaresi hakkında yönetmeliğe göre işlem yapılması kaydıyla arazinin kullanım hakkının fenerbahçe spor klübü \\x92 ne \\x93 bedelsiz \\x94 olarak devrini uygun gördü ulaşım planlama müdürlüğü de \\x93 bölgesel ulaşım sistemi açısından uygun bulunmuştur \\x94 görüşü verdi milyon liralık derbi ekonomik anlamda dünyanın en değerli derbileri arasında gösterilen falatasaray fenerbahçe maçı önemli bir ekonomi yaratacak türkiye \\x92 nin en ezeli iki takımını karşı karşıya getirecek derbi bilet fiyatlarının yanı sıra futbolcuların piyasa değeri bakımından da pahalı bir karşılaşma olacak alman transfermarkt verilerine göre süper_lig \\x92 de bu sezon mücadele eden takımlar içinde en pahalı kadroya sahip fenerbahçe \\x92 nin toplam piyasa değeri milyon liraya ulaşırken galatasaray sarı lacivertlileri milyon liralık değerle takip ediyor \\x91 top \\x92 bakırköy belediyesi \\x92 nde bakirköy şenlik mahallesi sakinlerinin cumartesi günleri halk pazarı olarak kullandığı araziyle ilgili değerlendirmede bulunan büyükşehir_belediyesi imar ve bayındırlık komisyonu arazinin fiili olarak kullanımı konusunda bakırköy belediyesi \\x92 nden görüş alınarak daha sonra karar verilmesi gerektiği belirtildi yani fenerbahçe \\x92 nin ilk kez avrupa yakasında bir tesise sahip olup olamayacağı bakırköy belediyesi \\x92 nin görüşü alındıktan sonra ibb_meclisi \\x92 nin vereceği karar sonucu belirlenecek kendisini ezeli rakibi galatasaray \\x92 la komşu yapacak olan fenerbahçe \\x92 nin bu talebi şimdilik meclis komisyonu tarafından planlama müdürlüğü \\x92 ne iade edilerek ertelendi rapor önümüzdeki aylarda yeniden ibb_meclisi \\x92 nin gündemine gelecek işte fenerbahçe nin istediği o arazi', ' aybaba ozan_ipek için ne dedi beşiktaş_teknik_direktörü samet_aybaba bursaspor da kadro dışı bırakılan ozan_ipek in iyi futbolcu olduğunu koşulların uygun olması halinde takımında görmek isteyebileceğini söyledi aybaba bjk_nevzat_demir_tesisleri nde gerçekleştirilen antrenman sırasında basın mensuplarıyla yaptığı sohbette ozan_ipek ile ilgili bir soruya ozan_ipek iyi futbolcu koşullar uygun olursa neden olmasın diye yanıt verdi ozan_ipek in menajerinin bu futbolcu kadro dışı kalmadan önce kendisini aradığını belirten aybaba ozan ın bursaspor da sorunlar yaşadığını ve isteyip istemeyeceğimizi sordu ben de koşullara göre yanıtını vermiştim bu bizim değil yönetimin işi ifadelerini kullandı devre arası transferleri aybaba devre arası transferleriyle ilgili bir soruya da devre arası için daha lig başlamadan çalışmalarımız vardı ve sürüyor da herkes sol kanada transfer yapacağımızı yazıyor böyle bir şey yok sola ismail_köybaşı dönecek ve bu bölge için bir çalışmamız yok diye yanıt verdi deneyimli teknik adam sakatlığı süren ismail_köybaşı nın ligin haftasına kadar takıma dönebileceğini kaydetti forvet transferi olabilir mi sorusu üzerine de aybaba olabilir dedi ligde son haftalarda skor olarak istediklerini alamadıklarını anlatan samet_aybaba trabzonspor maçında bunu değiştirmek istiyoruz diyerek sözlerini tamamladı aa', ' yumruk yumruğa kavga ettiler ! f bahçe_ülker mersin_bşb maçında yumruklar konuştu kendisini iten andersen e vuran mersin in abd li basketbolcusu prince atıldı ülker_sports_arena dün arka arkaya iki maça ev sahipliği yaptı f bahçe kadın basketbol takımı mersin_bşb yi 54 mağlup etti maç sonunda iki takım oyuncuları birbirlerini tebrik etti bu maçın ardından beko_basketbol_ligi nde f bahçe ile mersin_bşb nin erkek takımları karşılaştı andersen devam etti ! karşilaşmanin dakikasında gelişen bir pozisyonda mersin_bşb den prince andersen in yüzüne vurunca iki oyuncu arasında gerginlik yaşandı ikili arasında büyümesi muhtemel kavga takım arkadaşlarının araya girmesiyle önlendi maçin hakemleri yaşanan tartışmayı değerlendirdikten sonra mersin_bşb den prince i diskalifiye etti hakemler f bahçeli andersen e ise teknik faul verdi maçı sarı_lacivertliler 50 kazandı']\n",
            " \n",
            "-----------------\n",
            "GROUP DESCRIPTIVE KEYWORDS\n",
            " galatasaray\n",
            " maç\n",
            " beşiktaş\n",
            " gol\n",
            " takım\n",
            " maçında\n",
            " maçı\n",
            " teknik\n",
            " sezon\n",
            " maçta\n",
            "-----------------\n",
            "DOCUMENTS GROUP 6\n",
            "[' sarıgül anayasa_mahkemesi ne gidiyor mustafa_sarıgül ilçedeki sınır değişikliğine itiraz için anayasa_mahkemesi ne başvuracak şişli_belediye_başkanı_mustafa_sarıgül büyükşehir_yasası ile birlikte ilçedeki sınır değişikliliğine itiraz için cuma günü anayasa_mahkemesi ne başvuruda bulunacak büyükşehir_yasası ile birlikte şişli den alınarak sarıyer e bağlanan maslak ayazağa ve huzur mahalleleri ile karar anayasa_mahkemesi ne taşınıyor şişli_belediye_başkanı_mustafa_sarıgül ün bölgeyi temsil eden belediye meclis üyeleri ve mahalle muhtarlarından oluşan bir heyetle yarın ankara ya giderek kararın iptali için anayasa_mahkemesi ne başvuracağı öğrenildi dha', ' bakanlıklar lale_devri nde mhp ankara milletvekili özcan_yeniçeri bakanlıkların lale_devri ni aratmayan büyük bir şatafat içinde olduğunu savundu mhp ankara milletvekili özcan_yeniçeri meclis te düzenlediği basın toplantısında bakanlıkların lale devrini aratmayan bir şaşaa içinde olduklarını kiralanan binalar için büyük meblağlar ödendiğini belirtti soru önergelerine verilen cevaplara göre çevre ve şehircilik_bakanlığı nın yılı için balgat ta bulunan hizmet binasına milyon bin tl aynı bakanlığın söğütözü ndeki hizmet binası için yıllık milyon bin tl kira ödendiğini kaydeden yeniçeri dışişleri_bakanlığı sorduğumuz bir soruya verdiği cevapta ek hizmet için kiraladığı bir binaya yılından yılına kadar ödediği kira bedeli toplam milyon bin tl bülent_arınç a bağlı olan basın yayın enformasyon genel_müdürlüğü hizmet ve ek bina için yılından yılına kadar toplam milyon bin tl ödeme yapılmıştır arınç çok duygulu bir insan eminim bu rakamı duyduğunda gözleri yaşaracaktır dedi cumhurbaşkanı_abdullah_gül tarafından boşaltılmadığı için dışişleri_bakanı_ahmet_davutoğlu na kiralanan resmi konuta yıl içinde milyon bin tl para ödendiğine dikkat çeken yeniçeri milletin milyona yakın parası boşa gitmiş oluyor bu paralar ilgililerden görevleri ne olursa olsun faizi ile birlikte tahsil edilmeli elbette dışişleri_bakanı güzel bir binada oturacak ama bu ne şatafat siz çok özel bir yaratık mısınız milyon bin tl ile bir değil birden fazla konut yapılır bunu nasıl düşünemezsiniz diye konuştu yeraltindan petrol çikartmak için para harcandiği zannediliyor temsil ve tanıtım giderlerinin fazlalığına da dikkat çeken yeniçeri şunları dile getirdi enerji ve tabii_kaynaklar_bakanı_taner_yıldız sorduğumuz soruya şöyle bir cevap verdi yemekli toplantı tanıtım ve ikram malzemeleri için yılında bin tl yılında bin tl yılında bin tl yılında ise bin tl harcanmıştır bakanlığım ve ilgili kuruluşların da toplam yemekli toplantı tanıtım ve ikram malzemeleri için yılında milyon bin tl yılında milyon bin tl yılında milyon bin tl yılında milyon bin tl ve yılında milyon bin tl harcama yapılmıştır halkımız da yer altından doğalgaz petrol çıkarmak için para harcandığını zannediyor yeniçeri maliye_bakanlığı nın yılı için tanıtım organizasyon ağırlama yemek ve davet giderleri için toplam milyon bin tl ödendiğini söyledi bir kilo çikolata tl kamuda bir kilo çikolatayı tl ye alan birimler bulunduğunu belirten yeniçeri bir kilo çikolata tl bu hükümetin bağırsakları ilahi bağırsak mideleri ve kalpleri maneviyat ile dolu hep moral ve ahlaki biçimde çarptığı için bunların özel yemeleri özel bakılmaları gerekiyor ifadesini kullandı yeniçeri basın toplantısında tevfik fikret in yiyin efendiler yiyin bu han ı iştiha sizin mısralarının bulunduğu han ı yağma isimli şiirini okudu cihan', ' evren \\x92 in titrediğini görmek çok önemli ankara \\x92 nci ağır_ceza_mahkemesi \\x92 nde eylül darbesiyle ilgili dönemin genelkurmay_başkanı kenan_evren ile hava_kuvvetleri_komutanı tahsin_şahinkaya \\x92 nın kendilerini savunması mağdur ailelere acılarını tekrar yaşattı kardeşi orhan keskin \\x92 i diyarbakır_cezaevi \\x92 nde kaybeden ipek gür \\x93 evren insanlık suçu işlemiştir buradan ne çıkarsa çıksın sembolik ama benim karşımda avukat soru sorduğunda titremesini görmek çok önemli birşey \\x94 dedi kenan_evren \\x92 i karşısında gördüğü zaman diyarbakır_cezaevi \\x92 nin önünde yaşadığı bütün herşeyin beynine üşüştüğünü vurgulayan gür \\x93 bağırmalar didik didik iç çamaşırımıza kadar arayıp görüşe almaları içeride görüşememek \\x94 ifadelerini kullandı sanık evren \\x92 in \\x93 ihtilale teşebbüs etmedik ihtilal yaptık \\x94 açıklamasını da değerlendiren gür şöyle konuştu \\x93 bu faşist bir insan bu da korkunç bir cesaret gerçekten korkunç toplumun bu söze tepkisiz olacağını bile bile yani siz kimsiniz bana ne yapabilirsiniz kendine öz güveni ve aldığı eğitimi gösteriyor \\x91 ben bunları yaptım size bu kadar acı verdim ama burada böyle komik bir durumda beni yargılayamazsınız \\x92 diyor aslında bu solun bir ayıbı diye düşünüyorum kenan_evren \\x92 in \\x91 biz yaptık zaten bunu siz haketmiştiniz \\x92 der gibi aslında ben bu mahkemede bütün ailelerin bin tane devrimci öldürüldü her aileden bir kişi gelseydi bu mahkeme salonunda 500 tane insan olurdu biz bu ızdırabı tek başımıza taşımazdık hep beraber taşırdık insanlık suçu işlemiştir burdan ne çıkarsa çıksın sembolik ama benim karşımda avukat soru sorduğunda titremesini görmek çok önemli birşey \\x94', ' mhp den bakan_günay a jet yanıt mhp li büyükataman bakan_günay ın açıklamalarını eleştirdi mhp genel_sekreteri ismet büyükataman kültür ve turizm_bakanı_ertuğrul_günay ın açıklamalarını ecdadımıza yönelik çirkin ifadeler olarak nitelendirdi büyükataman bakan_günay a yönelik olarak türk milletinin milli hafızasında çatlaklar oluşturmayı kendine yol seçmiş akp nin sosyalist düşünceden devşirme bakanı dedi büyükataman bir osmanlı paşası olan mustafa_kemal e üstelik osmanlı üzerinden düşmanlık yaparak türk milletinin milli hafızasında çatlaklar oluşturmayı kendine yol seçmiş akp nin sosyalist düşünceden devşirme bakanı ertuğrul_günay çocuklarımıza padişahları anlatmayalım biz padişahlar üzerinden ecdadımız diye gidersek çocuklarımıza çok mahcup da olabiliriz demektedir hanedanın kurucusu bulunan padişahın bey babasının adını taşıyan bu zatın kültür ve tarih düşünceleri malumumuzdur ancak_türk çocuklarının zihin ve gönüllerinde atalarına karşı oluşturmaya çalıştığı aşağılık kompleksine izin vermemiz de mümkün değildir sayın kültür_bakanı kendi mahcubiyetini kendi yaşayabilir türk çocukları tarihlerini bir bütün halinde ele alacak doğrusundan şevk ve azim yanlışından ibret alarak büyüyecektir bu bizim için sadece bir mefkûre değil bir zorunluluktur dedi büyükataman bugün için hepsi birer tarihi şahsiyet konumunda olan padişahlar da bizler gibi birer insandı muhakkak günahları ve sevapları olacaktır ancak dünya tarihi içerisinde değerlendirildiğinde tarihimize büyük atatürk ün bakış açısıyla bakmak doğrusu olacaktır bizim milletimiz derin bir maziye maliktir türk çocuğu ecdadını tanıdıkça daha büyük işler yapmak için kendinde kuvvet bulacaktır dedi büyükataman bakanın asıl cevap vermesi gereken ve dert etmesi gereken konu en yakını yüz yıl evvel hükmetmiş padişahların çocuklarımızca nasıl öğrenileceği değil devr i iktidarlarının ileride çocuklarımıza nasıl anlatılacağıdır ecdadın şanla şerefle hükmettiği toprakları yabancılara satan amerika nın büyük orta_doğu projesi nin eş başkanı olmakla övünen masum arap çocuklarını hunharca katleden amerikan askerleri için dua eden her türlü milli hassasiyetten uzak geçirilen akp devri ileride türk çocuklarının zihninde bir fetret devri olarak yer bulacaktır ve hatta türk milletinin geçmişteki emsallerini dahi gölgede bırakacak bir şiddetteki fetret devri olarak anılacak ve maalesef şerefli türk tarihi içerisinde türk çocukları için mahcubiyet vesilesi olacak ender devirlerden biri olacaktır dedi dha', ' kongre ile uzlaşamasa abd için kabus olacak abd nin mali uçurum a sürüklenmesine günler kala abd_başkanı_barack_obama kongre nin iki kanadığının çoğunluk ve azınlık liderleriyle bir araya geldi obama ile kongre uzlaşamazsa ocak abd için kabus olacak obama ile kongre arasında vergi artışları ve harcama kesintileri üzerine uzlaşma olmazsa abd ocak tan itibaren mali uçurum a sürüklenecek obama liderleri beyaz_saray da kabul etti toplantıya temsilciler_meclisi başkanı john boehner meclis azınlık lideri nancy pelosi senato çoğunluk lideri harry reid ve senato azınlık lideri mitch mcconnell katıldı bunun yanında obama nın kabinesinden başkan yardımcısı joe_biden ve hazine bakanı timothy geither de toplantıda hazır bulundu obama noel tatilinden önce kongre ye seslenerek en azından orta gelirli vatandaşların vergilerinin artmasını önleyen ve işsizlik maaşlarının verilmesini sağlayan bir düzenlemenin acil geçirilmesi çağrısı yapmıştı buna karşın boehner yine obama nın kesinlikle karşı durduğu zenginlere yönelik vergi kesintisini de içeren bir düzenlemeyi temsilciler_meclisi ne getirme kararı almış ancak kendi partisinden yeterli desteği alamamıştı barack_obama noel den sonra gecen yıllarda yılbaşına kadar süren tatili bölerek washington a döndü ve yeniden çalışmaya başladı ama washington siyaseti çekişmeler nedeniyle bu yıl da bütçe konusundaki çıkmazları aşmakta zorlanıyor toplantıdan sızan bilgilere göre obama mali uçurum konusunda yeni bir teklifte bulunmadı obama nın toplantıda geçen hafta sunduğu teklifi tekrarladığı belirtiliyor ülke mali uçurum a giderse ne olur abd nin mali uçurum a gitmesi halinde ülke yeni bir ekonomik durgunluk riskiyle karşı karşıya kalacak obama ve kongre nin anlaşamaması halinde yeni yıl itibarıyla vergi kesintilerini de kapsayan önceki düzenlemenin süresi dolacağından herkes için vergiler artacak işsizlik maaşı olan milyon insanın yüzde ı bu yardımları kaybedecek dolayısıyla abd ekonomisinin mali uçurum halinde hem psikolojik hem de reel anlamda ciddi hasara uğraması bekleniyor ve işsizlik oranının yüzde 1 e fırlayabileceği yorumları yapılıyor']\n",
            " \n",
            "-----------------\n",
            "GROUP DESCRIPTIVE KEYWORDS\n",
            " ın\n",
            " türkiye\n",
            " yeni\n",
            " in\n",
            " istanbul\n",
            " büyük\n",
            " yıl\n",
            " abd\n",
            " yer\n",
            " internet\n",
            "-----------------\n"
          ],
          "name": "stdout"
        }
      ]
    },
    {
      "cell_type": "code",
      "metadata": {
        "id": "ucX3kKtmZl-B",
        "colab_type": "code",
        "outputId": "56c4f193-0572-4b4d-969f-9c7c8b4bf7ad",
        "colab": {}
      },
      "source": [
        "#KMEANS model\n",
        "true_k = 3 #cluster sayısı\n",
        "model = KMeans(n_clusters=true_k, init='k-means++', max_iter=100, n_init=1)\n",
        "model.fit(X)\n",
        "\n",
        "doc_groups(path)#dökümanları grupla ve keywordlerini çıkart"
      ],
      "execution_count": 0,
      "outputs": [
        {
          "output_type": "stream",
          "text": [
            "\n",
            "\n",
            "FILE GROUPS: \n",
            "----------------- \n",
            "DOCUMENTS GROUP 0\n",
            "Dokümanlar/karar13.pdf, Dokümanlar/karar17.pdf, Dokümanlar/karar15.pdf, Dokümanlar/karar24.pdf, Dokümanlar/karar23.pdf, Dokümanlar/karar11.pdf, Dokümanlar/karar20.pdf\n",
            " \n",
            "GROUP DESCRIPTIVE KEYWORDS\n",
            " çek\n",
            " karar\n",
            " kumar\n",
            " tarihli\n",
            " sayılı\n",
            " esas\n",
            " istifa\n",
            " keşide\n",
            " numaralı\n",
            " tl\n",
            "-----------------\n",
            "DOCUMENTS GROUP 1\n",
            "Dokümanlar/karar30.pdf, Dokümanlar/karar6.pdf, Dokümanlar/karar2.pdf, Dokümanlar/karar25.pdf, Dokümanlar/karar28.pdf, Dokümanlar/karar27.pdf, Dokümanlar/karar12.pdf, Dokümanlar/karar5.pdf, Dokümanlar/karar7.pdf, Dokümanlar/karar10.pdf, Dokümanlar/karar26.pdf, Dokümanlar/karar29.pdf, Dokümanlar/karar18.pdf, Dokümanlar/karar19.pdf, Dokümanlar/karar3.pdf, Dokümanlar/karar8.pdf, Dokümanlar/karar16.pdf, Dokümanlar/karar9.pdf\n",
            " \n",
            "GROUP DESCRIPTIVE KEYWORDS\n",
            " dava\n",
            " karar\n",
            " davalı\n",
            " ihtiyati\n",
            " davacı\n",
            " ticari\n",
            " haciz\n",
            " icra\n",
            " sayılı\n",
            " istanbul\n",
            "-----------------\n",
            "DOCUMENTS GROUP 2\n",
            "Dokümanlar/karar1.pdf, Dokümanlar/karar21.pdf, Dokümanlar/karar4.pdf, Dokümanlar/karar22.pdf, Dokümanlar/karar14.pdf\n",
            " \n",
            "GROUP DESCRIPTIVE KEYWORDS\n",
            " dava\n",
            " çek\n",
            " karar\n",
            " iptal\n",
            " sayılı\n",
            " davanın\n",
            " şartı\n",
            " derdestlik\n",
            " iptali\n",
            " davası\n",
            "-----------------\n"
          ],
          "name": "stdout"
        }
      ]
    },
    {
      "cell_type": "code",
      "metadata": {
        "id": "jhVvHQcFZl-N",
        "colab_type": "code",
        "colab": {}
      },
      "source": [
        "file_keywords(path2)#tek dökümanın keywordlerini çıkart"
      ],
      "execution_count": 0,
      "outputs": []
    },
    {
      "cell_type": "code",
      "metadata": {
        "id": "Bk0W6kTGZl-W",
        "colab_type": "code",
        "colab": {}
      },
      "source": [
        "#Clusterlardaki bağlantı sayısı ve frekansı en çok olan kelimeler\n",
        "'''print(\"Top terms per cluster:\")\n",
        "order_centroids = model.cluster_centers_.argsort()[:, ::-1]\n",
        "terms = vectorizer.get_feature_names()\n",
        "\n",
        "for i in range(true_k):\n",
        "    print(\"Cluster %d:\" % i),\n",
        "    for ind in order_centroids[i, :15]:\n",
        "        print(' %s' % terms[ind]),\n",
        "    print'''"
      ],
      "execution_count": 0,
      "outputs": []
    }
  ]
}